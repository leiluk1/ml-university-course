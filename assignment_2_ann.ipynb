{
  "cells": [
    {
      "cell_type": "markdown",
      "metadata": {
        "id": "a1D1VYhSPCXT"
      },
      "source": [
        "# Task 1: Where's Waldo?\n",
        "\n",
        "## Fingerprinting\n",
        "Browser fingerprinting is a technique used to identify and track individuals based on unique characteristics of their web browser configuration. These characteristics can include the browser type, version, installed plugins, and screen resolution, among others. By combining these attributes, websites can create a digital fingerprint that can be used to track user behavior across multiple sites, even if they clear their cookies or use different devices. This has raised concerns about privacy and the potential for this technology to be used for targeted advertising, surveillance, and other purposes.\n",
        "\n",
        "\n",
        "The task includes the following steps:\n",
        "- Select and implement suitable data preprocessing techniques;\n",
        "- Identify the appropriate classification approach for a given problem;\n",
        "- Apply ANN to solve a classification problem.\n",
        "\n",
        "\n",
        "### Data\n",
        "The columns of the dataset from `Task_1.csv` are the following:\n",
        " - browser\n",
        " - os\n",
        " - locale\n",
        " - user_id\n",
        " - location\n",
        " - sites\n",
        " - time\n",
        " - date\n",
        "\n",
        "\n",
        "\n"
      ]
    },
    {
      "cell_type": "markdown",
      "metadata": {
        "id": "7EuTrsjApTZw"
      },
      "source": [
        "#### Datasets loading"
      ]
    },
    {
      "cell_type": "code",
      "execution_count": null,
      "metadata": {
        "colab": {
          "base_uri": "https://localhost:8080/",
          "height": 206
        },
        "id": "Ry5DPr-sPCXU",
        "jupyter": {
          "outputs_hidden": false
        },
        "outputId": "a0dc9625-798e-4907-f5f7-eb6ebbd1dd93"
      },
      "outputs": [
        {
          "data": {
            "text/html": [
              "\n",
              "  <div id=\"df-7dad8139-ed6a-4da5-b859-005ee765acd5\">\n",
              "    <div class=\"colab-df-container\">\n",
              "      <div>\n",
              "<style scoped>\n",
              "    .dataframe tbody tr th:only-of-type {\n",
              "        vertical-align: middle;\n",
              "    }\n",
              "\n",
              "    .dataframe tbody tr th {\n",
              "        vertical-align: top;\n",
              "    }\n",
              "\n",
              "    .dataframe thead th {\n",
              "        text-align: right;\n",
              "    }\n",
              "</style>\n",
              "<table border=\"1\" class=\"dataframe\">\n",
              "  <thead>\n",
              "    <tr style=\"text-align: right;\">\n",
              "      <th></th>\n",
              "      <th>index</th>\n",
              "      <th>browser</th>\n",
              "      <th>os</th>\n",
              "      <th>locale</th>\n",
              "      <th>user_id</th>\n",
              "      <th>location</th>\n",
              "      <th>sites</th>\n",
              "      <th>time</th>\n",
              "      <th>date</th>\n",
              "    </tr>\n",
              "  </thead>\n",
              "  <tbody>\n",
              "    <tr>\n",
              "      <th>0</th>\n",
              "      <td>8909</td>\n",
              "      <td>Firefox</td>\n",
              "      <td>Windows 10</td>\n",
              "      <td>zh-CN</td>\n",
              "      <td>46</td>\n",
              "      <td>China/Shanghai</td>\n",
              "      <td>[{'site': '1.static.dpreview.com', 'length': 1...</td>\n",
              "      <td>14:14:00</td>\n",
              "      <td>2016-01-28</td>\n",
              "    </tr>\n",
              "    <tr>\n",
              "      <th>1</th>\n",
              "      <td>17679</td>\n",
              "      <td>Internet Explorer</td>\n",
              "      <td>Windows 8</td>\n",
              "      <td>ro-RO</td>\n",
              "      <td>21</td>\n",
              "      <td>Germany/Berlin</td>\n",
              "      <td>[{'site': 'safebrowsing-cache.google.com', 'le...</td>\n",
              "      <td>05:23:00</td>\n",
              "      <td>2016-08-26</td>\n",
              "    </tr>\n",
              "    <tr>\n",
              "      <th>2</th>\n",
              "      <td>11803</td>\n",
              "      <td>Internet Explorer</td>\n",
              "      <td>MacOS</td>\n",
              "      <td>ur-PK</td>\n",
              "      <td>98</td>\n",
              "      <td>Australia/Sydney</td>\n",
              "      <td>[{'site': 'www.ncbi.nlm.nih.gov', 'length': 10...</td>\n",
              "      <td>12:03:00</td>\n",
              "      <td>2016-03-13</td>\n",
              "    </tr>\n",
              "    <tr>\n",
              "      <th>3</th>\n",
              "      <td>356</td>\n",
              "      <td>Internet Explorer</td>\n",
              "      <td>Ubuntu</td>\n",
              "      <td>pl-PL</td>\n",
              "      <td>44</td>\n",
              "      <td>Japan/Tokyo</td>\n",
              "      <td>[{'site': 'fr.hdscreen.me', 'length': 16}, {'s...</td>\n",
              "      <td>06:08:00</td>\n",
              "      <td>2017-01-19</td>\n",
              "    </tr>\n",
              "    <tr>\n",
              "      <th>4</th>\n",
              "      <td>10948</td>\n",
              "      <td>Internet Explorer</td>\n",
              "      <td>Windows 8</td>\n",
              "      <td>bg-BG</td>\n",
              "      <td>59</td>\n",
              "      <td>Japan/Tokyo</td>\n",
              "      <td>[{'site': '193.164.196.50', 'length': 10}, {'s...</td>\n",
              "      <td>03:59:00</td>\n",
              "      <td>2017-05-13</td>\n",
              "    </tr>\n",
              "  </tbody>\n",
              "</table>\n",
              "</div>\n",
              "      <button class=\"colab-df-convert\" onclick=\"convertToInteractive('df-7dad8139-ed6a-4da5-b859-005ee765acd5')\"\n",
              "              title=\"Convert this dataframe to an interactive table.\"\n",
              "              style=\"display:none;\">\n",
              "        \n",
              "  <svg xmlns=\"http://www.w3.org/2000/svg\" height=\"24px\"viewBox=\"0 0 24 24\"\n",
              "       width=\"24px\">\n",
              "    <path d=\"M0 0h24v24H0V0z\" fill=\"none\"/>\n",
              "    <path d=\"M18.56 5.44l.94 2.06.94-2.06 2.06-.94-2.06-.94-.94-2.06-.94 2.06-2.06.94zm-11 1L8.5 8.5l.94-2.06 2.06-.94-2.06-.94L8.5 2.5l-.94 2.06-2.06.94zm10 10l.94 2.06.94-2.06 2.06-.94-2.06-.94-.94-2.06-.94 2.06-2.06.94z\"/><path d=\"M17.41 7.96l-1.37-1.37c-.4-.4-.92-.59-1.43-.59-.52 0-1.04.2-1.43.59L10.3 9.45l-7.72 7.72c-.78.78-.78 2.05 0 2.83L4 21.41c.39.39.9.59 1.41.59.51 0 1.02-.2 1.41-.59l7.78-7.78 2.81-2.81c.8-.78.8-2.07 0-2.86zM5.41 20L4 18.59l7.72-7.72 1.47 1.35L5.41 20z\"/>\n",
              "  </svg>\n",
              "      </button>\n",
              "      \n",
              "  <style>\n",
              "    .colab-df-container {\n",
              "      display:flex;\n",
              "      flex-wrap:wrap;\n",
              "      gap: 12px;\n",
              "    }\n",
              "\n",
              "    .colab-df-convert {\n",
              "      background-color: #E8F0FE;\n",
              "      border: none;\n",
              "      border-radius: 50%;\n",
              "      cursor: pointer;\n",
              "      display: none;\n",
              "      fill: #1967D2;\n",
              "      height: 32px;\n",
              "      padding: 0 0 0 0;\n",
              "      width: 32px;\n",
              "    }\n",
              "\n",
              "    .colab-df-convert:hover {\n",
              "      background-color: #E2EBFA;\n",
              "      box-shadow: 0px 1px 2px rgba(60, 64, 67, 0.3), 0px 1px 3px 1px rgba(60, 64, 67, 0.15);\n",
              "      fill: #174EA6;\n",
              "    }\n",
              "\n",
              "    [theme=dark] .colab-df-convert {\n",
              "      background-color: #3B4455;\n",
              "      fill: #D2E3FC;\n",
              "    }\n",
              "\n",
              "    [theme=dark] .colab-df-convert:hover {\n",
              "      background-color: #434B5C;\n",
              "      box-shadow: 0px 1px 3px 1px rgba(0, 0, 0, 0.15);\n",
              "      filter: drop-shadow(0px 1px 2px rgba(0, 0, 0, 0.3));\n",
              "      fill: #FFFFFF;\n",
              "    }\n",
              "  </style>\n",
              "\n",
              "      <script>\n",
              "        const buttonEl =\n",
              "          document.querySelector('#df-7dad8139-ed6a-4da5-b859-005ee765acd5 button.colab-df-convert');\n",
              "        buttonEl.style.display =\n",
              "          google.colab.kernel.accessAllowed ? 'block' : 'none';\n",
              "\n",
              "        async function convertToInteractive(key) {\n",
              "          const element = document.querySelector('#df-7dad8139-ed6a-4da5-b859-005ee765acd5');\n",
              "          const dataTable =\n",
              "            await google.colab.kernel.invokeFunction('convertToInteractive',\n",
              "                                                     [key], {});\n",
              "          if (!dataTable) return;\n",
              "\n",
              "          const docLinkHtml = 'Like what you see? Visit the ' +\n",
              "            '<a target=\"_blank\" href=https://colab.research.google.com/notebooks/data_table.ipynb>data table notebook</a>'\n",
              "            + ' to learn more about interactive tables.';\n",
              "          element.innerHTML = '';\n",
              "          dataTable['output_type'] = 'display_data';\n",
              "          await google.colab.output.renderOutput(dataTable, element);\n",
              "          const docLink = document.createElement('div');\n",
              "          docLink.innerHTML = docLinkHtml;\n",
              "          element.appendChild(docLink);\n",
              "        }\n",
              "      </script>\n",
              "    </div>\n",
              "  </div>\n",
              "  "
            ],
            "text/plain": [
              "   index            browser          os locale  user_id          location  \\\n",
              "0   8909            Firefox  Windows 10  zh-CN       46    China/Shanghai   \n",
              "1  17679  Internet Explorer   Windows 8  ro-RO       21    Germany/Berlin   \n",
              "2  11803  Internet Explorer       MacOS  ur-PK       98  Australia/Sydney   \n",
              "3    356  Internet Explorer      Ubuntu  pl-PL       44       Japan/Tokyo   \n",
              "4  10948  Internet Explorer   Windows 8  bg-BG       59       Japan/Tokyo   \n",
              "\n",
              "                                               sites      time        date  \n",
              "0  [{'site': '1.static.dpreview.com', 'length': 1...  14:14:00  2016-01-28  \n",
              "1  [{'site': 'safebrowsing-cache.google.com', 'le...  05:23:00  2016-08-26  \n",
              "2  [{'site': 'www.ncbi.nlm.nih.gov', 'length': 10...  12:03:00  2016-03-13  \n",
              "3  [{'site': 'fr.hdscreen.me', 'length': 16}, {'s...  06:08:00  2017-01-19  \n",
              "4  [{'site': '193.164.196.50', 'length': 10}, {'s...  03:59:00  2017-05-13  "
            ]
          },
          "execution_count": 49,
          "metadata": {},
          "output_type": "execute_result"
        }
      ],
      "source": [
        "import pandas as pd\n",
        "import numpy as np\n",
        "\n",
        "# load the dataset\n",
        "data = pd.read_csv('task 1.csv')\n",
        "data.head()"
      ]
    },
    {
      "cell_type": "code",
      "execution_count": null,
      "metadata": {
        "colab": {
          "base_uri": "https://localhost:8080/",
          "height": 206
        },
        "id": "SLWVPEYp07eQ",
        "outputId": "4758ef01-2021-411e-fa3d-08a2d0a0b452"
      },
      "outputs": [
        {
          "data": {
            "text/html": [
              "\n",
              "  <div id=\"df-da1816a4-1936-4dd2-bd40-b2ef595c995d\">\n",
              "    <div class=\"colab-df-container\">\n",
              "      <div>\n",
              "<style scoped>\n",
              "    .dataframe tbody tr th:only-of-type {\n",
              "        vertical-align: middle;\n",
              "    }\n",
              "\n",
              "    .dataframe tbody tr th {\n",
              "        vertical-align: top;\n",
              "    }\n",
              "\n",
              "    .dataframe thead th {\n",
              "        text-align: right;\n",
              "    }\n",
              "</style>\n",
              "<table border=\"1\" class=\"dataframe\">\n",
              "  <thead>\n",
              "    <tr style=\"text-align: right;\">\n",
              "      <th></th>\n",
              "      <th>browser</th>\n",
              "      <th>os</th>\n",
              "      <th>locale</th>\n",
              "      <th>location</th>\n",
              "      <th>sites</th>\n",
              "      <th>time</th>\n",
              "      <th>date</th>\n",
              "    </tr>\n",
              "  </thead>\n",
              "  <tbody>\n",
              "    <tr>\n",
              "      <th>0</th>\n",
              "      <td>Firefox</td>\n",
              "      <td>Windows 7</td>\n",
              "      <td>xh-ZA</td>\n",
              "      <td>USA/New York</td>\n",
              "      <td>[{'site': 'rr.office.microsoft.com', 'length':...</td>\n",
              "      <td>11:30:00</td>\n",
              "      <td>2016-10-05</td>\n",
              "    </tr>\n",
              "    <tr>\n",
              "      <th>1</th>\n",
              "      <td>Chrome</td>\n",
              "      <td>Windows 10</td>\n",
              "      <td>pl-PL</td>\n",
              "      <td>Japan/Tokyo</td>\n",
              "      <td>[{'site': 'maps.google.com', 'length': 14}, {'...</td>\n",
              "      <td>14:35:00</td>\n",
              "      <td>2016-05-06</td>\n",
              "    </tr>\n",
              "    <tr>\n",
              "      <th>2</th>\n",
              "      <td>Firefox</td>\n",
              "      <td>Debian</td>\n",
              "      <td>vi-VN</td>\n",
              "      <td>France/Paris</td>\n",
              "      <td>[{'site': 'cbk1.googleapis.com', 'length': 178...</td>\n",
              "      <td>14:31:00</td>\n",
              "      <td>2016-03-27</td>\n",
              "    </tr>\n",
              "    <tr>\n",
              "      <th>3</th>\n",
              "      <td>Firefox</td>\n",
              "      <td>Debian</td>\n",
              "      <td>en-US</td>\n",
              "      <td>Canada/Vancouver</td>\n",
              "      <td>[{'site': 'annotathon.org', 'length': 72}, {'s...</td>\n",
              "      <td>10:55:00</td>\n",
              "      <td>2016-12-31</td>\n",
              "    </tr>\n",
              "    <tr>\n",
              "      <th>4</th>\n",
              "      <td>Firefox</td>\n",
              "      <td>Debian</td>\n",
              "      <td>en-CA</td>\n",
              "      <td>Australia/Sydney</td>\n",
              "      <td>[{'site': 'apis.google.com', 'length': 75}, {'...</td>\n",
              "      <td>03:30:00</td>\n",
              "      <td>2017-01-19</td>\n",
              "    </tr>\n",
              "  </tbody>\n",
              "</table>\n",
              "</div>\n",
              "      <button class=\"colab-df-convert\" onclick=\"convertToInteractive('df-da1816a4-1936-4dd2-bd40-b2ef595c995d')\"\n",
              "              title=\"Convert this dataframe to an interactive table.\"\n",
              "              style=\"display:none;\">\n",
              "        \n",
              "  <svg xmlns=\"http://www.w3.org/2000/svg\" height=\"24px\"viewBox=\"0 0 24 24\"\n",
              "       width=\"24px\">\n",
              "    <path d=\"M0 0h24v24H0V0z\" fill=\"none\"/>\n",
              "    <path d=\"M18.56 5.44l.94 2.06.94-2.06 2.06-.94-2.06-.94-.94-2.06-.94 2.06-2.06.94zm-11 1L8.5 8.5l.94-2.06 2.06-.94-2.06-.94L8.5 2.5l-.94 2.06-2.06.94zm10 10l.94 2.06.94-2.06 2.06-.94-2.06-.94-.94-2.06-.94 2.06-2.06.94z\"/><path d=\"M17.41 7.96l-1.37-1.37c-.4-.4-.92-.59-1.43-.59-.52 0-1.04.2-1.43.59L10.3 9.45l-7.72 7.72c-.78.78-.78 2.05 0 2.83L4 21.41c.39.39.9.59 1.41.59.51 0 1.02-.2 1.41-.59l7.78-7.78 2.81-2.81c.8-.78.8-2.07 0-2.86zM5.41 20L4 18.59l7.72-7.72 1.47 1.35L5.41 20z\"/>\n",
              "  </svg>\n",
              "      </button>\n",
              "      \n",
              "  <style>\n",
              "    .colab-df-container {\n",
              "      display:flex;\n",
              "      flex-wrap:wrap;\n",
              "      gap: 12px;\n",
              "    }\n",
              "\n",
              "    .colab-df-convert {\n",
              "      background-color: #E8F0FE;\n",
              "      border: none;\n",
              "      border-radius: 50%;\n",
              "      cursor: pointer;\n",
              "      display: none;\n",
              "      fill: #1967D2;\n",
              "      height: 32px;\n",
              "      padding: 0 0 0 0;\n",
              "      width: 32px;\n",
              "    }\n",
              "\n",
              "    .colab-df-convert:hover {\n",
              "      background-color: #E2EBFA;\n",
              "      box-shadow: 0px 1px 2px rgba(60, 64, 67, 0.3), 0px 1px 3px 1px rgba(60, 64, 67, 0.15);\n",
              "      fill: #174EA6;\n",
              "    }\n",
              "\n",
              "    [theme=dark] .colab-df-convert {\n",
              "      background-color: #3B4455;\n",
              "      fill: #D2E3FC;\n",
              "    }\n",
              "\n",
              "    [theme=dark] .colab-df-convert:hover {\n",
              "      background-color: #434B5C;\n",
              "      box-shadow: 0px 1px 3px 1px rgba(0, 0, 0, 0.15);\n",
              "      filter: drop-shadow(0px 1px 2px rgba(0, 0, 0, 0.3));\n",
              "      fill: #FFFFFF;\n",
              "    }\n",
              "  </style>\n",
              "\n",
              "      <script>\n",
              "        const buttonEl =\n",
              "          document.querySelector('#df-da1816a4-1936-4dd2-bd40-b2ef595c995d button.colab-df-convert');\n",
              "        buttonEl.style.display =\n",
              "          google.colab.kernel.accessAllowed ? 'block' : 'none';\n",
              "\n",
              "        async function convertToInteractive(key) {\n",
              "          const element = document.querySelector('#df-da1816a4-1936-4dd2-bd40-b2ef595c995d');\n",
              "          const dataTable =\n",
              "            await google.colab.kernel.invokeFunction('convertToInteractive',\n",
              "                                                     [key], {});\n",
              "          if (!dataTable) return;\n",
              "\n",
              "          const docLinkHtml = 'Like what you see? Visit the ' +\n",
              "            '<a target=\"_blank\" href=https://colab.research.google.com/notebooks/data_table.ipynb>data table notebook</a>'\n",
              "            + ' to learn more about interactive tables.';\n",
              "          element.innerHTML = '';\n",
              "          dataTable['output_type'] = 'display_data';\n",
              "          await google.colab.output.renderOutput(dataTable, element);\n",
              "          const docLink = document.createElement('div');\n",
              "          docLink.innerHTML = docLinkHtml;\n",
              "          element.appendChild(docLink);\n",
              "        }\n",
              "      </script>\n",
              "    </div>\n",
              "  </div>\n",
              "  "
            ],
            "text/plain": [
              "   browser          os locale          location  \\\n",
              "0  Firefox   Windows 7  xh-ZA      USA/New York   \n",
              "1   Chrome  Windows 10  pl-PL       Japan/Tokyo   \n",
              "2  Firefox      Debian  vi-VN      France/Paris   \n",
              "3  Firefox      Debian  en-US  Canada/Vancouver   \n",
              "4  Firefox      Debian  en-CA  Australia/Sydney   \n",
              "\n",
              "                                               sites      time        date  \n",
              "0  [{'site': 'rr.office.microsoft.com', 'length':...  11:30:00  2016-10-05  \n",
              "1  [{'site': 'maps.google.com', 'length': 14}, {'...  14:35:00  2016-05-06  \n",
              "2  [{'site': 'cbk1.googleapis.com', 'length': 178...  14:31:00  2016-03-27  \n",
              "3  [{'site': 'annotathon.org', 'length': 72}, {'s...  10:55:00  2016-12-31  \n",
              "4  [{'site': 'apis.google.com', 'length': 75}, {'...  03:30:00  2017-01-19  "
            ]
          },
          "execution_count": 50,
          "metadata": {},
          "output_type": "execute_result"
        }
      ],
      "source": [
        "# load the dataset\n",
        "data_verify = pd.read_csv('task_1_verify.csv')\n",
        "data_verify.head()"
      ]
    },
    {
      "cell_type": "markdown",
      "metadata": {
        "id": "KkPCUn2iE_Pa"
      },
      "source": [
        "### Preprocessing"
      ]
    },
    {
      "cell_type": "code",
      "execution_count": null,
      "metadata": {
        "colab": {
          "base_uri": "https://localhost:8080/"
        },
        "id": "fs1t3l2c-SCK",
        "outputId": "7beddbf5-71fa-4520-80cb-b60328ff539b"
      },
      "outputs": [
        {
          "name": "stdout",
          "output_type": "stream",
          "text": [
            "Number of missing values: 0\n"
          ]
        }
      ],
      "source": [
        "# check whether the dataset have missing values\n",
        "print(f'Number of missing values: {data.isna().sum().sum()}')"
      ]
    },
    {
      "cell_type": "code",
      "execution_count": null,
      "metadata": {
        "id": "BREUoyNJsHjZ"
      },
      "outputs": [],
      "source": [
        "# find the amount of unique values in each column of the dataset\n",
        "unique_values = pd.DataFrame({'Feature': data.columns, \n",
        "                              'Unique values': data.nunique()})\n",
        "\n",
        "# sort the amount of unique values in each column in descending order\n",
        "sorted_unique_values = (unique_values\n",
        "                       .sort_values(by='Unique values', ascending=False)\n",
        ")"
      ]
    },
    {
      "cell_type": "code",
      "execution_count": null,
      "metadata": {
        "colab": {
          "base_uri": "https://localhost:8080/",
          "height": 143
        },
        "id": "Hj97ZZdwsRd2",
        "outputId": "bd2105fb-90a7-401c-f208-af65544e5ab4"
      },
      "outputs": [
        {
          "data": {
            "text/html": [
              "\n",
              "  <div id=\"df-7e873dbe-8326-4fe6-91b1-775abe92f063\">\n",
              "    <div class=\"colab-df-container\">\n",
              "      <div>\n",
              "<style scoped>\n",
              "    .dataframe tbody tr th:only-of-type {\n",
              "        vertical-align: middle;\n",
              "    }\n",
              "\n",
              "    .dataframe tbody tr th {\n",
              "        vertical-align: top;\n",
              "    }\n",
              "\n",
              "    .dataframe thead th {\n",
              "        text-align: right;\n",
              "    }\n",
              "</style>\n",
              "<table border=\"1\" class=\"dataframe\">\n",
              "  <thead>\n",
              "    <tr style=\"text-align: right;\">\n",
              "      <th></th>\n",
              "      <th>Feature</th>\n",
              "      <th>Unique values</th>\n",
              "    </tr>\n",
              "  </thead>\n",
              "  <tbody>\n",
              "    <tr>\n",
              "      <th>index</th>\n",
              "      <td>index</td>\n",
              "      <td>20401</td>\n",
              "    </tr>\n",
              "    <tr>\n",
              "      <th>sites</th>\n",
              "      <td>sites</td>\n",
              "      <td>20388</td>\n",
              "    </tr>\n",
              "    <tr>\n",
              "      <th>time</th>\n",
              "      <td>time</td>\n",
              "      <td>1440</td>\n",
              "    </tr>\n",
              "  </tbody>\n",
              "</table>\n",
              "</div>\n",
              "      <button class=\"colab-df-convert\" onclick=\"convertToInteractive('df-7e873dbe-8326-4fe6-91b1-775abe92f063')\"\n",
              "              title=\"Convert this dataframe to an interactive table.\"\n",
              "              style=\"display:none;\">\n",
              "        \n",
              "  <svg xmlns=\"http://www.w3.org/2000/svg\" height=\"24px\"viewBox=\"0 0 24 24\"\n",
              "       width=\"24px\">\n",
              "    <path d=\"M0 0h24v24H0V0z\" fill=\"none\"/>\n",
              "    <path d=\"M18.56 5.44l.94 2.06.94-2.06 2.06-.94-2.06-.94-.94-2.06-.94 2.06-2.06.94zm-11 1L8.5 8.5l.94-2.06 2.06-.94-2.06-.94L8.5 2.5l-.94 2.06-2.06.94zm10 10l.94 2.06.94-2.06 2.06-.94-2.06-.94-.94-2.06-.94 2.06-2.06.94z\"/><path d=\"M17.41 7.96l-1.37-1.37c-.4-.4-.92-.59-1.43-.59-.52 0-1.04.2-1.43.59L10.3 9.45l-7.72 7.72c-.78.78-.78 2.05 0 2.83L4 21.41c.39.39.9.59 1.41.59.51 0 1.02-.2 1.41-.59l7.78-7.78 2.81-2.81c.8-.78.8-2.07 0-2.86zM5.41 20L4 18.59l7.72-7.72 1.47 1.35L5.41 20z\"/>\n",
              "  </svg>\n",
              "      </button>\n",
              "      \n",
              "  <style>\n",
              "    .colab-df-container {\n",
              "      display:flex;\n",
              "      flex-wrap:wrap;\n",
              "      gap: 12px;\n",
              "    }\n",
              "\n",
              "    .colab-df-convert {\n",
              "      background-color: #E8F0FE;\n",
              "      border: none;\n",
              "      border-radius: 50%;\n",
              "      cursor: pointer;\n",
              "      display: none;\n",
              "      fill: #1967D2;\n",
              "      height: 32px;\n",
              "      padding: 0 0 0 0;\n",
              "      width: 32px;\n",
              "    }\n",
              "\n",
              "    .colab-df-convert:hover {\n",
              "      background-color: #E2EBFA;\n",
              "      box-shadow: 0px 1px 2px rgba(60, 64, 67, 0.3), 0px 1px 3px 1px rgba(60, 64, 67, 0.15);\n",
              "      fill: #174EA6;\n",
              "    }\n",
              "\n",
              "    [theme=dark] .colab-df-convert {\n",
              "      background-color: #3B4455;\n",
              "      fill: #D2E3FC;\n",
              "    }\n",
              "\n",
              "    [theme=dark] .colab-df-convert:hover {\n",
              "      background-color: #434B5C;\n",
              "      box-shadow: 0px 1px 3px 1px rgba(0, 0, 0, 0.15);\n",
              "      filter: drop-shadow(0px 1px 2px rgba(0, 0, 0, 0.3));\n",
              "      fill: #FFFFFF;\n",
              "    }\n",
              "  </style>\n",
              "\n",
              "      <script>\n",
              "        const buttonEl =\n",
              "          document.querySelector('#df-7e873dbe-8326-4fe6-91b1-775abe92f063 button.colab-df-convert');\n",
              "        buttonEl.style.display =\n",
              "          google.colab.kernel.accessAllowed ? 'block' : 'none';\n",
              "\n",
              "        async function convertToInteractive(key) {\n",
              "          const element = document.querySelector('#df-7e873dbe-8326-4fe6-91b1-775abe92f063');\n",
              "          const dataTable =\n",
              "            await google.colab.kernel.invokeFunction('convertToInteractive',\n",
              "                                                     [key], {});\n",
              "          if (!dataTable) return;\n",
              "\n",
              "          const docLinkHtml = 'Like what you see? Visit the ' +\n",
              "            '<a target=\"_blank\" href=https://colab.research.google.com/notebooks/data_table.ipynb>data table notebook</a>'\n",
              "            + ' to learn more about interactive tables.';\n",
              "          element.innerHTML = '';\n",
              "          dataTable['output_type'] = 'display_data';\n",
              "          await google.colab.output.renderOutput(dataTable, element);\n",
              "          const docLink = document.createElement('div');\n",
              "          docLink.innerHTML = docLinkHtml;\n",
              "          element.appendChild(docLink);\n",
              "        }\n",
              "      </script>\n",
              "    </div>\n",
              "  </div>\n",
              "  "
            ],
            "text/plain": [
              "      Feature  Unique values\n",
              "index   index          20401\n",
              "sites   sites          20388\n",
              "time     time           1440"
            ]
          },
          "execution_count": 53,
          "metadata": {},
          "output_type": "execute_result"
        }
      ],
      "source": [
        "sorted_unique_values.head(3)"
      ]
    },
    {
      "cell_type": "code",
      "execution_count": null,
      "metadata": {
        "colab": {
          "base_uri": "https://localhost:8080/"
        },
        "id": "tHOFnFvPsy2v",
        "outputId": "71bcab88-a8b4-454a-dec3-07859e077a97"
      },
      "outputs": [
        {
          "data": {
            "text/plain": [
              "1.0"
            ]
          },
          "execution_count": 54,
          "metadata": {},
          "output_type": "execute_result"
        }
      ],
      "source": [
        "# find the proportion of unique names in data\n",
        "proportion_of_unique_idx = data['index'].nunique() / data.shape[0]\n",
        "proportion_of_unique_idx"
      ]
    },
    {
      "cell_type": "markdown",
      "metadata": {
        "id": "x6tMMlbPs-kG"
      },
      "source": [
        "Based on the obtained proportion of unique values in the `index` column, all values of indexes are unique. Therefore, it can be concluded that this feature does not provide certain information about Waldo, so it is redundant and will not affect the prediction."
      ]
    },
    {
      "cell_type": "code",
      "execution_count": null,
      "metadata": {
        "id": "Hekzpon9Amsn"
      },
      "outputs": [],
      "source": [
        "# remove the redundant feature\n",
        "data = data.drop(['index'], axis=1)"
      ]
    },
    {
      "cell_type": "code",
      "execution_count": null,
      "metadata": {
        "id": "Wj6dw_iyCzaJ"
      },
      "outputs": [],
      "source": [
        "import json\n",
        "\n",
        "# extract time per session feature from the sites column\n",
        "data['session_time'] = (\n",
        "    data['sites']\n",
        "    .apply(lambda x: sum(entry['length'] \n",
        "                         for entry in json.loads(x.replace(\"'\", \"\\\"\"))))\n",
        ")"
      ]
    },
    {
      "cell_type": "code",
      "execution_count": null,
      "metadata": {
        "colab": {
          "base_uri": "https://localhost:8080/"
        },
        "id": "ZXrkQfI1sfAm",
        "outputId": "0d4abec1-254d-498f-8a9d-2c81e70a1bd3"
      },
      "outputs": [
        {
          "name": "stdout",
          "output_type": "stream",
          "text": [
            "The average session time of Waldo is 1102\n"
          ]
        }
      ],
      "source": [
        "# find and print the average session time of Waldo users\n",
        "t_waldo = int(data[data['user_id'] == 0]['session_time'].mean())\n",
        "print(f'The average session time of Waldo is {t_waldo}')"
      ]
    },
    {
      "cell_type": "code",
      "execution_count": null,
      "metadata": {
        "colab": {
          "base_uri": "https://localhost:8080/"
        },
        "id": "RFU8i-fOswCU",
        "outputId": "402de28f-2991-43a2-b326-5a6869ecc82d"
      },
      "outputs": [
        {
          "name": "stdout",
          "output_type": "stream",
          "text": [
            "The average session time of not Waldo users is 484\n"
          ]
        }
      ],
      "source": [
        "# find and print the average session time of users who are not Waldo\n",
        "t_others = int(data[data['user_id'] != 0]['session_time'].mean().round())\n",
        "print(f'The average session time of not Waldo users is {t_others}')"
      ]
    },
    {
      "cell_type": "markdown",
      "metadata": {
        "id": "Kz2MXQuC2ADl"
      },
      "source": [
        "As we can observe, Waldo spends more time visiting the sites per one session than other users."
      ]
    },
    {
      "cell_type": "code",
      "execution_count": null,
      "metadata": {
        "colab": {
          "base_uri": "https://localhost:8080/"
        },
        "id": "ZJiB9FxqzFq4",
        "outputId": "f2c069d2-2bb2-44f0-ae42-484c25812c0a"
      },
      "outputs": [
        {
          "name": "stdout",
          "output_type": "stream",
          "text": [
            "Number of unique sites: 11052\n"
          ]
        }
      ],
      "source": [
        "# find number of unique sites\n",
        "entries = []\n",
        "sites = []\n",
        "for value in data['sites']:\n",
        "    entries.extend(json.loads(value.replace(\"'\", \"\\\"\")))\n",
        "\n",
        "for entry in entries:\n",
        "    sites.append(entry['site'])\n",
        "\n",
        "all_sites = pd.Series(sites)\n",
        "print(f'Number of unique sites: {all_sites.nunique()}')"
      ]
    },
    {
      "cell_type": "code",
      "execution_count": null,
      "metadata": {
        "colab": {
          "base_uri": "https://localhost:8080/",
          "height": 206
        },
        "id": "Ve0xj-v5y8LA",
        "outputId": "b53a3a77-58c9-419a-b421-3ecebfdde220"
      },
      "outputs": [
        {
          "data": {
            "text/html": [
              "\n",
              "  <div id=\"df-d96ad99f-cb5c-4579-b23c-00d047a539e2\">\n",
              "    <div class=\"colab-df-container\">\n",
              "      <div>\n",
              "<style scoped>\n",
              "    .dataframe tbody tr th:only-of-type {\n",
              "        vertical-align: middle;\n",
              "    }\n",
              "\n",
              "    .dataframe tbody tr th {\n",
              "        vertical-align: top;\n",
              "    }\n",
              "\n",
              "    .dataframe thead th {\n",
              "        text-align: right;\n",
              "    }\n",
              "</style>\n",
              "<table border=\"1\" class=\"dataframe\">\n",
              "  <thead>\n",
              "    <tr style=\"text-align: right;\">\n",
              "      <th></th>\n",
              "      <th>browser</th>\n",
              "      <th>os</th>\n",
              "      <th>locale</th>\n",
              "      <th>user_id</th>\n",
              "      <th>location</th>\n",
              "      <th>time</th>\n",
              "      <th>date</th>\n",
              "      <th>session_time</th>\n",
              "    </tr>\n",
              "  </thead>\n",
              "  <tbody>\n",
              "    <tr>\n",
              "      <th>0</th>\n",
              "      <td>Firefox</td>\n",
              "      <td>Windows 10</td>\n",
              "      <td>zh-CN</td>\n",
              "      <td>46</td>\n",
              "      <td>China/Shanghai</td>\n",
              "      <td>14:14:00</td>\n",
              "      <td>2016-01-28</td>\n",
              "      <td>117</td>\n",
              "    </tr>\n",
              "    <tr>\n",
              "      <th>1</th>\n",
              "      <td>Internet Explorer</td>\n",
              "      <td>Windows 8</td>\n",
              "      <td>ro-RO</td>\n",
              "      <td>21</td>\n",
              "      <td>Germany/Berlin</td>\n",
              "      <td>05:23:00</td>\n",
              "      <td>2016-08-26</td>\n",
              "      <td>1559</td>\n",
              "    </tr>\n",
              "    <tr>\n",
              "      <th>2</th>\n",
              "      <td>Internet Explorer</td>\n",
              "      <td>MacOS</td>\n",
              "      <td>ur-PK</td>\n",
              "      <td>98</td>\n",
              "      <td>Australia/Sydney</td>\n",
              "      <td>12:03:00</td>\n",
              "      <td>2016-03-13</td>\n",
              "      <td>313</td>\n",
              "    </tr>\n",
              "    <tr>\n",
              "      <th>3</th>\n",
              "      <td>Internet Explorer</td>\n",
              "      <td>Ubuntu</td>\n",
              "      <td>pl-PL</td>\n",
              "      <td>44</td>\n",
              "      <td>Japan/Tokyo</td>\n",
              "      <td>06:08:00</td>\n",
              "      <td>2017-01-19</td>\n",
              "      <td>451</td>\n",
              "    </tr>\n",
              "    <tr>\n",
              "      <th>4</th>\n",
              "      <td>Internet Explorer</td>\n",
              "      <td>Windows 8</td>\n",
              "      <td>bg-BG</td>\n",
              "      <td>59</td>\n",
              "      <td>Japan/Tokyo</td>\n",
              "      <td>03:59:00</td>\n",
              "      <td>2017-05-13</td>\n",
              "      <td>164</td>\n",
              "    </tr>\n",
              "  </tbody>\n",
              "</table>\n",
              "</div>\n",
              "      <button class=\"colab-df-convert\" onclick=\"convertToInteractive('df-d96ad99f-cb5c-4579-b23c-00d047a539e2')\"\n",
              "              title=\"Convert this dataframe to an interactive table.\"\n",
              "              style=\"display:none;\">\n",
              "        \n",
              "  <svg xmlns=\"http://www.w3.org/2000/svg\" height=\"24px\"viewBox=\"0 0 24 24\"\n",
              "       width=\"24px\">\n",
              "    <path d=\"M0 0h24v24H0V0z\" fill=\"none\"/>\n",
              "    <path d=\"M18.56 5.44l.94 2.06.94-2.06 2.06-.94-2.06-.94-.94-2.06-.94 2.06-2.06.94zm-11 1L8.5 8.5l.94-2.06 2.06-.94-2.06-.94L8.5 2.5l-.94 2.06-2.06.94zm10 10l.94 2.06.94-2.06 2.06-.94-2.06-.94-.94-2.06-.94 2.06-2.06.94z\"/><path d=\"M17.41 7.96l-1.37-1.37c-.4-.4-.92-.59-1.43-.59-.52 0-1.04.2-1.43.59L10.3 9.45l-7.72 7.72c-.78.78-.78 2.05 0 2.83L4 21.41c.39.39.9.59 1.41.59.51 0 1.02-.2 1.41-.59l7.78-7.78 2.81-2.81c.8-.78.8-2.07 0-2.86zM5.41 20L4 18.59l7.72-7.72 1.47 1.35L5.41 20z\"/>\n",
              "  </svg>\n",
              "      </button>\n",
              "      \n",
              "  <style>\n",
              "    .colab-df-container {\n",
              "      display:flex;\n",
              "      flex-wrap:wrap;\n",
              "      gap: 12px;\n",
              "    }\n",
              "\n",
              "    .colab-df-convert {\n",
              "      background-color: #E8F0FE;\n",
              "      border: none;\n",
              "      border-radius: 50%;\n",
              "      cursor: pointer;\n",
              "      display: none;\n",
              "      fill: #1967D2;\n",
              "      height: 32px;\n",
              "      padding: 0 0 0 0;\n",
              "      width: 32px;\n",
              "    }\n",
              "\n",
              "    .colab-df-convert:hover {\n",
              "      background-color: #E2EBFA;\n",
              "      box-shadow: 0px 1px 2px rgba(60, 64, 67, 0.3), 0px 1px 3px 1px rgba(60, 64, 67, 0.15);\n",
              "      fill: #174EA6;\n",
              "    }\n",
              "\n",
              "    [theme=dark] .colab-df-convert {\n",
              "      background-color: #3B4455;\n",
              "      fill: #D2E3FC;\n",
              "    }\n",
              "\n",
              "    [theme=dark] .colab-df-convert:hover {\n",
              "      background-color: #434B5C;\n",
              "      box-shadow: 0px 1px 3px 1px rgba(0, 0, 0, 0.15);\n",
              "      filter: drop-shadow(0px 1px 2px rgba(0, 0, 0, 0.3));\n",
              "      fill: #FFFFFF;\n",
              "    }\n",
              "  </style>\n",
              "\n",
              "      <script>\n",
              "        const buttonEl =\n",
              "          document.querySelector('#df-d96ad99f-cb5c-4579-b23c-00d047a539e2 button.colab-df-convert');\n",
              "        buttonEl.style.display =\n",
              "          google.colab.kernel.accessAllowed ? 'block' : 'none';\n",
              "\n",
              "        async function convertToInteractive(key) {\n",
              "          const element = document.querySelector('#df-d96ad99f-cb5c-4579-b23c-00d047a539e2');\n",
              "          const dataTable =\n",
              "            await google.colab.kernel.invokeFunction('convertToInteractive',\n",
              "                                                     [key], {});\n",
              "          if (!dataTable) return;\n",
              "\n",
              "          const docLinkHtml = 'Like what you see? Visit the ' +\n",
              "            '<a target=\"_blank\" href=https://colab.research.google.com/notebooks/data_table.ipynb>data table notebook</a>'\n",
              "            + ' to learn more about interactive tables.';\n",
              "          element.innerHTML = '';\n",
              "          dataTable['output_type'] = 'display_data';\n",
              "          await google.colab.output.renderOutput(dataTable, element);\n",
              "          const docLink = document.createElement('div');\n",
              "          docLink.innerHTML = docLinkHtml;\n",
              "          element.appendChild(docLink);\n",
              "        }\n",
              "      </script>\n",
              "    </div>\n",
              "  </div>\n",
              "  "
            ],
            "text/plain": [
              "             browser          os locale  user_id          location      time  \\\n",
              "0            Firefox  Windows 10  zh-CN       46    China/Shanghai  14:14:00   \n",
              "1  Internet Explorer   Windows 8  ro-RO       21    Germany/Berlin  05:23:00   \n",
              "2  Internet Explorer       MacOS  ur-PK       98  Australia/Sydney  12:03:00   \n",
              "3  Internet Explorer      Ubuntu  pl-PL       44       Japan/Tokyo  06:08:00   \n",
              "4  Internet Explorer   Windows 8  bg-BG       59       Japan/Tokyo  03:59:00   \n",
              "\n",
              "         date  session_time  \n",
              "0  2016-01-28           117  \n",
              "1  2016-08-26          1559  \n",
              "2  2016-03-13           313  \n",
              "3  2017-01-19           451  \n",
              "4  2017-05-13           164  "
            ]
          },
          "execution_count": 60,
          "metadata": {},
          "output_type": "execute_result"
        }
      ],
      "source": [
        "# drop the sites\n",
        "data = data.drop('sites', axis=1)\n",
        "data.head()"
      ]
    },
    {
      "cell_type": "markdown",
      "metadata": {
        "id": "wUdvOjvt2Www"
      },
      "source": [
        "As can be seen, number of unique sites is quite large, so I decided to remove information about the site addresses."
      ]
    },
    {
      "cell_type": "code",
      "execution_count": null,
      "metadata": {
        "colab": {
          "base_uri": "https://localhost:8080/",
          "height": 206
        },
        "id": "BMGbFjXr_cQG",
        "outputId": "c1c0f222-cc5a-41d1-8ebe-48b2486c4dff"
      },
      "outputs": [
        {
          "data": {
            "text/html": [
              "\n",
              "  <div id=\"df-e68e7c91-d445-42bb-93b1-53d0b8984f6d\">\n",
              "    <div class=\"colab-df-container\">\n",
              "      <div>\n",
              "<style scoped>\n",
              "    .dataframe tbody tr th:only-of-type {\n",
              "        vertical-align: middle;\n",
              "    }\n",
              "\n",
              "    .dataframe tbody tr th {\n",
              "        vertical-align: top;\n",
              "    }\n",
              "\n",
              "    .dataframe thead th {\n",
              "        text-align: right;\n",
              "    }\n",
              "</style>\n",
              "<table border=\"1\" class=\"dataframe\">\n",
              "  <thead>\n",
              "    <tr style=\"text-align: right;\">\n",
              "      <th></th>\n",
              "      <th>browser</th>\n",
              "      <th>os</th>\n",
              "      <th>locale</th>\n",
              "      <th>user_id</th>\n",
              "      <th>time</th>\n",
              "      <th>date</th>\n",
              "      <th>session_time</th>\n",
              "      <th>country</th>\n",
              "      <th>city</th>\n",
              "    </tr>\n",
              "  </thead>\n",
              "  <tbody>\n",
              "    <tr>\n",
              "      <th>0</th>\n",
              "      <td>Firefox</td>\n",
              "      <td>Windows 10</td>\n",
              "      <td>zh-CN</td>\n",
              "      <td>46</td>\n",
              "      <td>14:14:00</td>\n",
              "      <td>2016-01-28</td>\n",
              "      <td>117</td>\n",
              "      <td>China</td>\n",
              "      <td>Shanghai</td>\n",
              "    </tr>\n",
              "    <tr>\n",
              "      <th>1</th>\n",
              "      <td>Internet Explorer</td>\n",
              "      <td>Windows 8</td>\n",
              "      <td>ro-RO</td>\n",
              "      <td>21</td>\n",
              "      <td>05:23:00</td>\n",
              "      <td>2016-08-26</td>\n",
              "      <td>1559</td>\n",
              "      <td>Germany</td>\n",
              "      <td>Berlin</td>\n",
              "    </tr>\n",
              "    <tr>\n",
              "      <th>2</th>\n",
              "      <td>Internet Explorer</td>\n",
              "      <td>MacOS</td>\n",
              "      <td>ur-PK</td>\n",
              "      <td>98</td>\n",
              "      <td>12:03:00</td>\n",
              "      <td>2016-03-13</td>\n",
              "      <td>313</td>\n",
              "      <td>Australia</td>\n",
              "      <td>Sydney</td>\n",
              "    </tr>\n",
              "    <tr>\n",
              "      <th>3</th>\n",
              "      <td>Internet Explorer</td>\n",
              "      <td>Ubuntu</td>\n",
              "      <td>pl-PL</td>\n",
              "      <td>44</td>\n",
              "      <td>06:08:00</td>\n",
              "      <td>2017-01-19</td>\n",
              "      <td>451</td>\n",
              "      <td>Japan</td>\n",
              "      <td>Tokyo</td>\n",
              "    </tr>\n",
              "    <tr>\n",
              "      <th>4</th>\n",
              "      <td>Internet Explorer</td>\n",
              "      <td>Windows 8</td>\n",
              "      <td>bg-BG</td>\n",
              "      <td>59</td>\n",
              "      <td>03:59:00</td>\n",
              "      <td>2017-05-13</td>\n",
              "      <td>164</td>\n",
              "      <td>Japan</td>\n",
              "      <td>Tokyo</td>\n",
              "    </tr>\n",
              "  </tbody>\n",
              "</table>\n",
              "</div>\n",
              "      <button class=\"colab-df-convert\" onclick=\"convertToInteractive('df-e68e7c91-d445-42bb-93b1-53d0b8984f6d')\"\n",
              "              title=\"Convert this dataframe to an interactive table.\"\n",
              "              style=\"display:none;\">\n",
              "        \n",
              "  <svg xmlns=\"http://www.w3.org/2000/svg\" height=\"24px\"viewBox=\"0 0 24 24\"\n",
              "       width=\"24px\">\n",
              "    <path d=\"M0 0h24v24H0V0z\" fill=\"none\"/>\n",
              "    <path d=\"M18.56 5.44l.94 2.06.94-2.06 2.06-.94-2.06-.94-.94-2.06-.94 2.06-2.06.94zm-11 1L8.5 8.5l.94-2.06 2.06-.94-2.06-.94L8.5 2.5l-.94 2.06-2.06.94zm10 10l.94 2.06.94-2.06 2.06-.94-2.06-.94-.94-2.06-.94 2.06-2.06.94z\"/><path d=\"M17.41 7.96l-1.37-1.37c-.4-.4-.92-.59-1.43-.59-.52 0-1.04.2-1.43.59L10.3 9.45l-7.72 7.72c-.78.78-.78 2.05 0 2.83L4 21.41c.39.39.9.59 1.41.59.51 0 1.02-.2 1.41-.59l7.78-7.78 2.81-2.81c.8-.78.8-2.07 0-2.86zM5.41 20L4 18.59l7.72-7.72 1.47 1.35L5.41 20z\"/>\n",
              "  </svg>\n",
              "      </button>\n",
              "      \n",
              "  <style>\n",
              "    .colab-df-container {\n",
              "      display:flex;\n",
              "      flex-wrap:wrap;\n",
              "      gap: 12px;\n",
              "    }\n",
              "\n",
              "    .colab-df-convert {\n",
              "      background-color: #E8F0FE;\n",
              "      border: none;\n",
              "      border-radius: 50%;\n",
              "      cursor: pointer;\n",
              "      display: none;\n",
              "      fill: #1967D2;\n",
              "      height: 32px;\n",
              "      padding: 0 0 0 0;\n",
              "      width: 32px;\n",
              "    }\n",
              "\n",
              "    .colab-df-convert:hover {\n",
              "      background-color: #E2EBFA;\n",
              "      box-shadow: 0px 1px 2px rgba(60, 64, 67, 0.3), 0px 1px 3px 1px rgba(60, 64, 67, 0.15);\n",
              "      fill: #174EA6;\n",
              "    }\n",
              "\n",
              "    [theme=dark] .colab-df-convert {\n",
              "      background-color: #3B4455;\n",
              "      fill: #D2E3FC;\n",
              "    }\n",
              "\n",
              "    [theme=dark] .colab-df-convert:hover {\n",
              "      background-color: #434B5C;\n",
              "      box-shadow: 0px 1px 3px 1px rgba(0, 0, 0, 0.15);\n",
              "      filter: drop-shadow(0px 1px 2px rgba(0, 0, 0, 0.3));\n",
              "      fill: #FFFFFF;\n",
              "    }\n",
              "  </style>\n",
              "\n",
              "      <script>\n",
              "        const buttonEl =\n",
              "          document.querySelector('#df-e68e7c91-d445-42bb-93b1-53d0b8984f6d button.colab-df-convert');\n",
              "        buttonEl.style.display =\n",
              "          google.colab.kernel.accessAllowed ? 'block' : 'none';\n",
              "\n",
              "        async function convertToInteractive(key) {\n",
              "          const element = document.querySelector('#df-e68e7c91-d445-42bb-93b1-53d0b8984f6d');\n",
              "          const dataTable =\n",
              "            await google.colab.kernel.invokeFunction('convertToInteractive',\n",
              "                                                     [key], {});\n",
              "          if (!dataTable) return;\n",
              "\n",
              "          const docLinkHtml = 'Like what you see? Visit the ' +\n",
              "            '<a target=\"_blank\" href=https://colab.research.google.com/notebooks/data_table.ipynb>data table notebook</a>'\n",
              "            + ' to learn more about interactive tables.';\n",
              "          element.innerHTML = '';\n",
              "          dataTable['output_type'] = 'display_data';\n",
              "          await google.colab.output.renderOutput(dataTable, element);\n",
              "          const docLink = document.createElement('div');\n",
              "          docLink.innerHTML = docLinkHtml;\n",
              "          element.appendChild(docLink);\n",
              "        }\n",
              "      </script>\n",
              "    </div>\n",
              "  </div>\n",
              "  "
            ],
            "text/plain": [
              "             browser          os locale  user_id      time        date  \\\n",
              "0            Firefox  Windows 10  zh-CN       46  14:14:00  2016-01-28   \n",
              "1  Internet Explorer   Windows 8  ro-RO       21  05:23:00  2016-08-26   \n",
              "2  Internet Explorer       MacOS  ur-PK       98  12:03:00  2016-03-13   \n",
              "3  Internet Explorer      Ubuntu  pl-PL       44  06:08:00  2017-01-19   \n",
              "4  Internet Explorer   Windows 8  bg-BG       59  03:59:00  2017-05-13   \n",
              "\n",
              "   session_time    country      city  \n",
              "0           117      China  Shanghai  \n",
              "1          1559    Germany    Berlin  \n",
              "2           313  Australia    Sydney  \n",
              "3           451      Japan     Tokyo  \n",
              "4           164      Japan     Tokyo  "
            ]
          },
          "execution_count": 61,
          "metadata": {},
          "output_type": "execute_result"
        }
      ],
      "source": [
        "# split the location column into 2 new columns\n",
        "data[['country', 'city']] = (data['location']\n",
        "                            .str.split(pat=\"/\", expand=True)\n",
        ")\n",
        "data = data.drop(['location'], axis=1)\n",
        "\n",
        "data.head()"
      ]
    },
    {
      "cell_type": "code",
      "execution_count": null,
      "metadata": {
        "colab": {
          "base_uri": "https://localhost:8080/"
        },
        "id": "KlRtqAXuh6YZ",
        "outputId": "fc033e38-5956-4ae1-a873-6d3f36189955"
      },
      "outputs": [
        {
          "name": "stdout",
          "output_type": "stream",
          "text": [
            "Column browser: ['Firefox' 'Internet Explorer' 'Chrome' 'Safari']\n",
            "\n",
            "Column os: ['Windows 10' 'Windows 8' 'MacOS' 'Ubuntu' 'Debian' 'Windows 7']\n",
            "\n",
            "Column locale: ['zh-CN' 'ro-RO' 'ur-PK' 'pl-PL' 'bg-BG' 'fr-FR' 'xh-ZA' 'nl-NL' 'en-AU'\n",
            " 'en-CA' 'en-NZ' 'vi-VN' 'en-US' 'ja-JP' 'wo-SN' 'uk-UA' 'ru_RU' 'pt-BR'\n",
            " 'pt-PT' 'en-SG' 'de-DE' 'es-MX' 'it-IT' 'en-GB' 'ru-RU']\n",
            "\n",
            "Column city: ['Shanghai' 'Berlin' 'Sydney' 'Tokyo' 'Auckland' 'Toronto' 'Amsterdam'\n",
            " 'Moscow' 'Chicago' 'Singapore' 'San Francisco' 'Rome' 'London' 'Madrid'\n",
            " 'Vancouver' 'Delhi' 'Paris' 'New York' 'Kuala Lumpur' 'Miami'\n",
            " 'Rio de Janeiro']\n",
            "\n",
            "Column country: ['China' 'Germany' 'Australia' 'Japan' 'New Zealand' 'Canada'\n",
            " 'Netherlands' 'Russia' 'USA' 'Singapore' 'Italy' 'UK' 'Spain' 'India'\n",
            " 'France' 'Malaysia' 'Brazil']\n",
            "\n"
          ]
        }
      ],
      "source": [
        "# check the unique values in categorical columns\n",
        "categ_cols = ['browser', 'os', 'locale', 'city', 'country']\n",
        "for col in categ_cols:\n",
        "    print(f'Column {col}: {data[col].unique()}')\n",
        "    print()"
      ]
    },
    {
      "cell_type": "markdown",
      "metadata": {
        "id": "_oFgp9Y3r86n"
      },
      "source": [
        "As can be seen, column `locale` has duplicate values: 'ru_RU' and 'ru-RU'. Let's clean up them:"
      ]
    },
    {
      "cell_type": "code",
      "execution_count": null,
      "metadata": {
        "id": "wJD5RUFdErYu"
      },
      "outputs": [],
      "source": [
        "# remove duplicate values\n",
        "cleanup_vals = {'locale': {'ru_RU': 'ru-RU'} }\n",
        "data.replace(cleanup_vals, inplace=True)"
      ]
    },
    {
      "cell_type": "code",
      "execution_count": null,
      "metadata": {
        "colab": {
          "base_uri": "https://localhost:8080/"
        },
        "id": "sVrib85m3Xtb",
        "outputId": "312f25ac-30b0-41aa-f26f-231f9e7e7faa"
      },
      "outputs": [
        {
          "name": "stdout",
          "output_type": "stream",
          "text": [
            "Locale of Waldo users: ru-RU\n"
          ]
        }
      ],
      "source": [
        "# find the locale of Waldo users\n",
        "for loc in data[data['user_id'] == 0]['locale'].unique().tolist():\n",
        "    print(f'Locale of Waldo users: {loc}')"
      ]
    },
    {
      "cell_type": "code",
      "execution_count": null,
      "metadata": {
        "colab": {
          "base_uri": "https://localhost:8080/"
        },
        "id": "4p8E56Ki7f8W",
        "outputId": "5d0954f6-774c-44ca-c36e-09e7c953b823"
      },
      "outputs": [
        {
          "name": "stdout",
          "output_type": "stream",
          "text": [
            "Locale of not Waldo users: ['zh-CN', 'ro-RO', 'ur-PK', 'pl-PL', 'bg-BG', 'fr-FR', 'xh-ZA', 'nl-NL', 'en-AU', 'en-CA', 'en-NZ', 'vi-VN', 'en-US', 'ja-JP', 'wo-SN', 'uk-UA', 'pt-BR', 'pt-PT', 'en-SG', 'ru-RU', 'de-DE', 'es-MX', 'it-IT', 'en-GB']\n"
          ]
        }
      ],
      "source": [
        "# find the locale of Waldo users\n",
        "locales = data[data['user_id'] != 0]['locale'].unique().tolist()\n",
        "print(f'Locale of not Waldo users: {locales}')"
      ]
    },
    {
      "cell_type": "markdown",
      "metadata": {
        "id": "K8ifpubq72CV"
      },
      "source": [
        "As can be seen, each Waldo user has `ru-RU` locale."
      ]
    },
    {
      "cell_type": "markdown",
      "metadata": {
        "id": "03mFf6BRzt9R"
      },
      "source": [
        "#### Identifying the appropriate classification approach\n"
      ]
    },
    {
      "cell_type": "markdown",
      "metadata": {
        "id": "0Qe43K010DXl"
      },
      "source": [
        "First, the task is to identify Waldo - the user with user_id=0. So, we have the following class labels: \n",
        "\n",
        "*   users with user_id not equal to 0\n",
        "*   users whose user_id=0 \n",
        "\n",
        "\n",
        "\n",
        "Therefore, we are dealing with the binary classification problem."
      ]
    },
    {
      "cell_type": "code",
      "execution_count": null,
      "metadata": {
        "id": "_1DBRaZEbbBx"
      },
      "outputs": [],
      "source": [
        "# select predictors from the dataset\n",
        "X = data.drop(['user_id'], axis=1)\n",
        "\n",
        "# create target (1 if Waldo, 0 otherwise)\n",
        "y = (data['user_id'] == 0).astype('int')"
      ]
    },
    {
      "cell_type": "markdown",
      "metadata": {
        "id": "Vx2Hb_dL2NnY"
      },
      "source": [
        "Secondly, let's take a look on the dataset balance. We should check whether the dataset is balanced or not:"
      ]
    },
    {
      "cell_type": "code",
      "execution_count": null,
      "metadata": {
        "colab": {
          "base_uri": "https://localhost:8080/"
        },
        "id": "7_LdH5cv2Vxc",
        "outputId": "f4f0af5e-84ec-4959-8f7c-8a26ea3bf458"
      },
      "outputs": [
        {
          "name": "stdout",
          "output_type": "stream",
          "text": [
            "Proportion of Waldo class in dataset: 0.0196\n"
          ]
        }
      ],
      "source": [
        "# find the proportion of Waldo class \n",
        "waldo_proportion = sum(y == 1) / len(y)\n",
        "print(f'Proportion of Waldo class in dataset: {waldo_proportion:.4f}')"
      ]
    },
    {
      "cell_type": "code",
      "execution_count": null,
      "metadata": {
        "colab": {
          "base_uri": "https://localhost:8080/"
        },
        "id": "6Pv8mNqt2W8D",
        "outputId": "9dd47a52-36cd-4eaa-8633-fd5b00795ccb"
      },
      "outputs": [
        {
          "name": "stdout",
          "output_type": "stream",
          "text": [
            "Proportion of not Waldo class in dataset: 0.9804\n"
          ]
        }
      ],
      "source": [
        "# find the proportion of not Waldo class\n",
        "proportion = sum(y == 0) / len(y)\n",
        "print(f'Proportion of not Waldo class in dataset: {proportion:.4f}')"
      ]
    },
    {
      "cell_type": "code",
      "execution_count": null,
      "metadata": {
        "colab": {
          "base_uri": "https://localhost:8080/",
          "height": 468
        },
        "id": "t0gLGZLO5oJ7",
        "outputId": "e4365e85-4fff-4abb-bbe7-3cfe196ed3eb"
      },
      "outputs": [
        {
          "data": {
            "image/png": "[encoded data removed]",
            "text/plain": [
              "<Figure size 800x500 with 1 Axes>"
            ]
          },
          "metadata": {},
          "output_type": "display_data"
        }
      ],
      "source": [
        "import matplotlib.pyplot as plt\n",
        "\n",
        "\n",
        "# plot the number of observations in each target class\n",
        "fig = plt.figure(figsize = (8, 5))\n",
        "\n",
        "classes = ['Waldo', 'Not Waldo']\n",
        "observ = [sum(y == 1), sum(y == 0)]\n",
        "\n",
        "plt.title('Class distribution')\n",
        "plt.ylabel('Number of users')\n",
        "plt.bar(classes, observ, color=['tomato', 'g'])\n",
        "              \n",
        "plt.show()"
      ]
    },
    {
      "cell_type": "markdown",
      "metadata": {
        "id": "mrU935fz_EqN"
      },
      "source": [
        "According to the observed proportions of classes and the bar chart above, the target class has an uneven distribution of observations. Therefore, the dataset is imbalanced.\n",
        "\n",
        "To sum up, in this task we are working with binary imbalanced classification problem."
      ]
    },
    {
      "cell_type": "markdown",
      "metadata": {
        "id": "Nh6R_IX4AyoU"
      },
      "source": [
        "#### Splitting the data"
      ]
    },
    {
      "cell_type": "code",
      "execution_count": null,
      "metadata": {
        "id": "HNP2yqpQfmuL"
      },
      "outputs": [],
      "source": [
        "from sklearn.model_selection import train_test_split\n",
        "\n",
        "# split the data into train (80%) and test (20%) datasets\n",
        "X_train, X_test, y_train, y_test = train_test_split(X, y, \n",
        "                                                    test_size=0.2,  \n",
        "                                                    stratify=y)"
      ]
    },
    {
      "cell_type": "markdown",
      "metadata": {
        "id": "XPcq1fl6BbHb"
      },
      "source": [
        "#### Categorical Encoding"
      ]
    },
    {
      "cell_type": "code",
      "execution_count": null,
      "metadata": {
        "id": "OEzYK5sMh4l-"
      },
      "outputs": [],
      "source": [
        "from sklearn.preprocessing import OneHotEncoder\n",
        "\n",
        "# encode categorical features with one-hot-encoder\n",
        "def encoding(df, feat_name, encoder):\n",
        "    new_feats = encoder.transform(df[feat_name])\n",
        "    new_cols = pd.DataFrame(new_feats, \n",
        "                  columns=encoder.get_feature_names_out(feat_name))\n",
        "    new_df = pd.concat([df.reset_index(drop=True), new_cols], axis=1)    \n",
        "    new_df.drop(feat_name, axis=1, inplace=True)\n",
        "    return new_df\n",
        "\n",
        "\n",
        "# define encoder\n",
        "encoder = OneHotEncoder(sparse_output=False, drop='first')\n",
        "\n",
        "# define categorical features to be encoded\n",
        "feature_cols = ['browser', 'os', 'locale', 'city', 'country']\n",
        "\n",
        "# encode categorical features in both training and test datasets\n",
        "encoder.fit(X_train[feature_cols])\n",
        "X_train = encoding(X_train, feature_cols, encoder)\n",
        "X_test = encoding(X_test, feature_cols, encoder)"
      ]
    },
    {
      "cell_type": "markdown",
      "metadata": {
        "id": "7p3Y2V19CbFo"
      },
      "source": [
        "#### Cyclical features encoding"
      ]
    },
    {
      "cell_type": "code",
      "execution_count": null,
      "metadata": {
        "id": "zS208PfKuzhS"
      },
      "outputs": [],
      "source": [
        "secs_in_day = 24 * 60 * 60\n",
        "avg_days_in_month = 30\n",
        "days_in_week = 7\n",
        "months_in_year = 12\n",
        "\n",
        "# compute sinus transform\n",
        "def sin_transform(value, total):\n",
        "    return np.sin(2 * np.pi * value/ total)\n",
        "\n",
        "# compute cosine transfrom\n",
        "def cos_transform(value, total):\n",
        "    return np.cos(2 * np.pi * value/ total)\n",
        "\n",
        "# encode time feature\n",
        "def time_encoding(df, feature_name):\n",
        "    df[feature_name] = pd.to_datetime(df[feature_name], format='%H:%M:%S')\n",
        "    hours = df[feature_name].dt.hour\n",
        "    mins = df[feature_name].dt.minute\n",
        "    secs = df[feature_name].dt.second\n",
        "    time = hours * 60 * 60 + mins * 60 + secs\n",
        "    df['sin_time'] = sin_transform(time, secs_in_day)\n",
        "    df['cos_time'] = cos_transform(time, secs_in_day)\n",
        "    df.drop([feature_name], axis=1, inplace=True)\n",
        "\n",
        "# encode date feature\n",
        "def date_encoding(df, feature_name):\n",
        "    df[feature_name] = pd.to_datetime(df[feature_name], format='%Y-%m-%d')\n",
        "    weekday = df[feature_name].dt.weekday\n",
        "    df['sin_weekday'] = sin_transform(weekday, days_in_week)\n",
        "    df['cos_weekday'] = cos_transform(weekday, days_in_week)\n",
        "    year = df[feature_name].dt.year\n",
        "    df['year'] = year\n",
        "    month = df[feature_name].dt.month\n",
        "    df['sin_month'] = sin_transform(month, months_in_year)\n",
        "    df['cos_month'] = cos_transform(month, months_in_year)\n",
        "    day = df[feature_name].dt.day\n",
        "    df['sin_day'] = sin_transform(day, avg_days_in_month)\n",
        "    df['cos_day'] = cos_transform(day, avg_days_in_month)\n",
        "    df.drop([feature_name], axis=1, inplace=True)\n",
        "\n",
        "# encode time and date features in both training and test sets\n",
        "time_encoding(X_train, 'time')\n",
        "date_encoding(X_train, 'date')\n",
        "\n",
        "time_encoding(X_test, 'time')\n",
        "date_encoding(X_test, 'date')"
      ]
    },
    {
      "cell_type": "code",
      "execution_count": null,
      "metadata": {
        "colab": {
          "base_uri": "https://localhost:8080/"
        },
        "id": "-o9MY8N7ubfR",
        "outputId": "2ab9febd-6cf7-450f-a704-eb784b2d55b1"
      },
      "outputs": [
        {
          "name": "stdout",
          "output_type": "stream",
          "text": [
            "Total number of features: 77\n"
          ]
        }
      ],
      "source": [
        "print('Total number of features:', X_train.shape[1])"
      ]
    },
    {
      "cell_type": "markdown",
      "metadata": {
        "id": "uzrP2BwYD94D"
      },
      "source": [
        "#### Scale the data"
      ]
    },
    {
      "cell_type": "code",
      "execution_count": null,
      "metadata": {
        "id": "ms5ThJeEx15q"
      },
      "outputs": [],
      "source": [
        "from sklearn.preprocessing import StandardScaler\n",
        "\n",
        "# define and fit the standard scaler on training set\n",
        "scaler = StandardScaler()\n",
        "scaler.fit(X_train)\n",
        "\n",
        "# scale features in both training and test data\n",
        "X_train = scaler.transform(X_train)\n",
        "X_test = scaler.transform(X_test)"
      ]
    },
    {
      "cell_type": "markdown",
      "metadata": {
        "id": "RpC7KBLrFLtb"
      },
      "source": [
        "#### Let's proceed similar steps of preprocessing with data from `task_1_verify.csv`"
      ]
    },
    {
      "cell_type": "code",
      "execution_count": null,
      "metadata": {
        "colab": {
          "base_uri": "https://localhost:8080/",
          "height": 206
        },
        "id": "7guhN8cqHf8h",
        "outputId": "9d8decf1-750d-4f2e-ba7f-dbe7f002796f"
      },
      "outputs": [
        {
          "data": {
            "text/html": [
              "\n",
              "  <div id=\"df-336d23e4-d558-42c4-9b04-0b060b3dfbe2\">\n",
              "    <div class=\"colab-df-container\">\n",
              "      <div>\n",
              "<style scoped>\n",
              "    .dataframe tbody tr th:only-of-type {\n",
              "        vertical-align: middle;\n",
              "    }\n",
              "\n",
              "    .dataframe tbody tr th {\n",
              "        vertical-align: top;\n",
              "    }\n",
              "\n",
              "    .dataframe thead th {\n",
              "        text-align: right;\n",
              "    }\n",
              "</style>\n",
              "<table border=\"1\" class=\"dataframe\">\n",
              "  <thead>\n",
              "    <tr style=\"text-align: right;\">\n",
              "      <th></th>\n",
              "      <th>browser</th>\n",
              "      <th>os</th>\n",
              "      <th>locale</th>\n",
              "      <th>location</th>\n",
              "      <th>time</th>\n",
              "      <th>date</th>\n",
              "      <th>time_per_session</th>\n",
              "    </tr>\n",
              "  </thead>\n",
              "  <tbody>\n",
              "    <tr>\n",
              "      <th>0</th>\n",
              "      <td>Firefox</td>\n",
              "      <td>Windows 7</td>\n",
              "      <td>xh-ZA</td>\n",
              "      <td>USA/New York</td>\n",
              "      <td>11:30:00</td>\n",
              "      <td>2016-10-05</td>\n",
              "      <td>94</td>\n",
              "    </tr>\n",
              "    <tr>\n",
              "      <th>1</th>\n",
              "      <td>Chrome</td>\n",
              "      <td>Windows 10</td>\n",
              "      <td>pl-PL</td>\n",
              "      <td>Japan/Tokyo</td>\n",
              "      <td>14:35:00</td>\n",
              "      <td>2016-05-06</td>\n",
              "      <td>716</td>\n",
              "    </tr>\n",
              "    <tr>\n",
              "      <th>2</th>\n",
              "      <td>Firefox</td>\n",
              "      <td>Debian</td>\n",
              "      <td>vi-VN</td>\n",
              "      <td>France/Paris</td>\n",
              "      <td>14:31:00</td>\n",
              "      <td>2016-03-27</td>\n",
              "      <td>679</td>\n",
              "    </tr>\n",
              "    <tr>\n",
              "      <th>3</th>\n",
              "      <td>Firefox</td>\n",
              "      <td>Debian</td>\n",
              "      <td>en-US</td>\n",
              "      <td>Canada/Vancouver</td>\n",
              "      <td>10:55:00</td>\n",
              "      <td>2016-12-31</td>\n",
              "      <td>222</td>\n",
              "    </tr>\n",
              "    <tr>\n",
              "      <th>4</th>\n",
              "      <td>Firefox</td>\n",
              "      <td>Debian</td>\n",
              "      <td>en-CA</td>\n",
              "      <td>Australia/Sydney</td>\n",
              "      <td>03:30:00</td>\n",
              "      <td>2017-01-19</td>\n",
              "      <td>850</td>\n",
              "    </tr>\n",
              "  </tbody>\n",
              "</table>\n",
              "</div>\n",
              "      <button class=\"colab-df-convert\" onclick=\"convertToInteractive('df-336d23e4-d558-42c4-9b04-0b060b3dfbe2')\"\n",
              "              title=\"Convert this dataframe to an interactive table.\"\n",
              "              style=\"display:none;\">\n",
              "        \n",
              "  <svg xmlns=\"http://www.w3.org/2000/svg\" height=\"24px\"viewBox=\"0 0 24 24\"\n",
              "       width=\"24px\">\n",
              "    <path d=\"M0 0h24v24H0V0z\" fill=\"none\"/>\n",
              "    <path d=\"M18.56 5.44l.94 2.06.94-2.06 2.06-.94-2.06-.94-.94-2.06-.94 2.06-2.06.94zm-11 1L8.5 8.5l.94-2.06 2.06-.94-2.06-.94L8.5 2.5l-.94 2.06-2.06.94zm10 10l.94 2.06.94-2.06 2.06-.94-2.06-.94-.94-2.06-.94 2.06-2.06.94z\"/><path d=\"M17.41 7.96l-1.37-1.37c-.4-.4-.92-.59-1.43-.59-.52 0-1.04.2-1.43.59L10.3 9.45l-7.72 7.72c-.78.78-.78 2.05 0 2.83L4 21.41c.39.39.9.59 1.41.59.51 0 1.02-.2 1.41-.59l7.78-7.78 2.81-2.81c.8-.78.8-2.07 0-2.86zM5.41 20L4 18.59l7.72-7.72 1.47 1.35L5.41 20z\"/>\n",
              "  </svg>\n",
              "      </button>\n",
              "      \n",
              "  <style>\n",
              "    .colab-df-container {\n",
              "      display:flex;\n",
              "      flex-wrap:wrap;\n",
              "      gap: 12px;\n",
              "    }\n",
              "\n",
              "    .colab-df-convert {\n",
              "      background-color: #E8F0FE;\n",
              "      border: none;\n",
              "      border-radius: 50%;\n",
              "      cursor: pointer;\n",
              "      display: none;\n",
              "      fill: #1967D2;\n",
              "      height: 32px;\n",
              "      padding: 0 0 0 0;\n",
              "      width: 32px;\n",
              "    }\n",
              "\n",
              "    .colab-df-convert:hover {\n",
              "      background-color: #E2EBFA;\n",
              "      box-shadow: 0px 1px 2px rgba(60, 64, 67, 0.3), 0px 1px 3px 1px rgba(60, 64, 67, 0.15);\n",
              "      fill: #174EA6;\n",
              "    }\n",
              "\n",
              "    [theme=dark] .colab-df-convert {\n",
              "      background-color: #3B4455;\n",
              "      fill: #D2E3FC;\n",
              "    }\n",
              "\n",
              "    [theme=dark] .colab-df-convert:hover {\n",
              "      background-color: #434B5C;\n",
              "      box-shadow: 0px 1px 3px 1px rgba(0, 0, 0, 0.15);\n",
              "      filter: drop-shadow(0px 1px 2px rgba(0, 0, 0, 0.3));\n",
              "      fill: #FFFFFF;\n",
              "    }\n",
              "  </style>\n",
              "\n",
              "      <script>\n",
              "        const buttonEl =\n",
              "          document.querySelector('#df-336d23e4-d558-42c4-9b04-0b060b3dfbe2 button.colab-df-convert');\n",
              "        buttonEl.style.display =\n",
              "          google.colab.kernel.accessAllowed ? 'block' : 'none';\n",
              "\n",
              "        async function convertToInteractive(key) {\n",
              "          const element = document.querySelector('#df-336d23e4-d558-42c4-9b04-0b060b3dfbe2');\n",
              "          const dataTable =\n",
              "            await google.colab.kernel.invokeFunction('convertToInteractive',\n",
              "                                                     [key], {});\n",
              "          if (!dataTable) return;\n",
              "\n",
              "          const docLinkHtml = 'Like what you see? Visit the ' +\n",
              "            '<a target=\"_blank\" href=https://colab.research.google.com/notebooks/data_table.ipynb>data table notebook</a>'\n",
              "            + ' to learn more about interactive tables.';\n",
              "          element.innerHTML = '';\n",
              "          dataTable['output_type'] = 'display_data';\n",
              "          await google.colab.output.renderOutput(dataTable, element);\n",
              "          const docLink = document.createElement('div');\n",
              "          docLink.innerHTML = docLinkHtml;\n",
              "          element.appendChild(docLink);\n",
              "        }\n",
              "      </script>\n",
              "    </div>\n",
              "  </div>\n",
              "  "
            ],
            "text/plain": [
              "   browser          os locale          location      time        date  \\\n",
              "0  Firefox   Windows 7  xh-ZA      USA/New York  11:30:00  2016-10-05   \n",
              "1   Chrome  Windows 10  pl-PL       Japan/Tokyo  14:35:00  2016-05-06   \n",
              "2  Firefox      Debian  vi-VN      France/Paris  14:31:00  2016-03-27   \n",
              "3  Firefox      Debian  en-US  Canada/Vancouver  10:55:00  2016-12-31   \n",
              "4  Firefox      Debian  en-CA  Australia/Sydney  03:30:00  2017-01-19   \n",
              "\n",
              "   time_per_session  \n",
              "0                94  \n",
              "1               716  \n",
              "2               679  \n",
              "3               222  \n",
              "4               850  "
            ]
          },
          "execution_count": 95,
          "metadata": {},
          "output_type": "execute_result"
        }
      ],
      "source": [
        "# extract time per session feature from the sites column\n",
        "data_verify['time_per_session'] = (\n",
        "    data_verify['sites']\n",
        "    .apply(lambda x: sum(entry['length'] \n",
        "                         for entry in json.loads(x.replace(\"'\", \"\\\"\"))))\n",
        ")\n",
        "data_verify = data_verify.drop('sites', axis=1)\n",
        "data_verify.head()"
      ]
    },
    {
      "cell_type": "code",
      "execution_count": null,
      "metadata": {
        "colab": {
          "base_uri": "https://localhost:8080/",
          "height": 206
        },
        "id": "7iUEdmFNHpSA",
        "outputId": "6e000564-57b7-4280-ef2a-cbc221ecf192"
      },
      "outputs": [
        {
          "data": {
            "text/html": [
              "\n",
              "  <div id=\"df-374ed442-1b80-47b4-aff9-1b4b3f5c2095\">\n",
              "    <div class=\"colab-df-container\">\n",
              "      <div>\n",
              "<style scoped>\n",
              "    .dataframe tbody tr th:only-of-type {\n",
              "        vertical-align: middle;\n",
              "    }\n",
              "\n",
              "    .dataframe tbody tr th {\n",
              "        vertical-align: top;\n",
              "    }\n",
              "\n",
              "    .dataframe thead th {\n",
              "        text-align: right;\n",
              "    }\n",
              "</style>\n",
              "<table border=\"1\" class=\"dataframe\">\n",
              "  <thead>\n",
              "    <tr style=\"text-align: right;\">\n",
              "      <th></th>\n",
              "      <th>browser</th>\n",
              "      <th>os</th>\n",
              "      <th>locale</th>\n",
              "      <th>time</th>\n",
              "      <th>date</th>\n",
              "      <th>time_per_session</th>\n",
              "      <th>country</th>\n",
              "      <th>city</th>\n",
              "    </tr>\n",
              "  </thead>\n",
              "  <tbody>\n",
              "    <tr>\n",
              "      <th>0</th>\n",
              "      <td>Firefox</td>\n",
              "      <td>Windows 7</td>\n",
              "      <td>xh-ZA</td>\n",
              "      <td>11:30:00</td>\n",
              "      <td>2016-10-05</td>\n",
              "      <td>94</td>\n",
              "      <td>USA</td>\n",
              "      <td>New York</td>\n",
              "    </tr>\n",
              "    <tr>\n",
              "      <th>1</th>\n",
              "      <td>Chrome</td>\n",
              "      <td>Windows 10</td>\n",
              "      <td>pl-PL</td>\n",
              "      <td>14:35:00</td>\n",
              "      <td>2016-05-06</td>\n",
              "      <td>716</td>\n",
              "      <td>Japan</td>\n",
              "      <td>Tokyo</td>\n",
              "    </tr>\n",
              "    <tr>\n",
              "      <th>2</th>\n",
              "      <td>Firefox</td>\n",
              "      <td>Debian</td>\n",
              "      <td>vi-VN</td>\n",
              "      <td>14:31:00</td>\n",
              "      <td>2016-03-27</td>\n",
              "      <td>679</td>\n",
              "      <td>France</td>\n",
              "      <td>Paris</td>\n",
              "    </tr>\n",
              "    <tr>\n",
              "      <th>3</th>\n",
              "      <td>Firefox</td>\n",
              "      <td>Debian</td>\n",
              "      <td>en-US</td>\n",
              "      <td>10:55:00</td>\n",
              "      <td>2016-12-31</td>\n",
              "      <td>222</td>\n",
              "      <td>Canada</td>\n",
              "      <td>Vancouver</td>\n",
              "    </tr>\n",
              "    <tr>\n",
              "      <th>4</th>\n",
              "      <td>Firefox</td>\n",
              "      <td>Debian</td>\n",
              "      <td>en-CA</td>\n",
              "      <td>03:30:00</td>\n",
              "      <td>2017-01-19</td>\n",
              "      <td>850</td>\n",
              "      <td>Australia</td>\n",
              "      <td>Sydney</td>\n",
              "    </tr>\n",
              "  </tbody>\n",
              "</table>\n",
              "</div>\n",
              "      <button class=\"colab-df-convert\" onclick=\"convertToInteractive('df-374ed442-1b80-47b4-aff9-1b4b3f5c2095')\"\n",
              "              title=\"Convert this dataframe to an interactive table.\"\n",
              "              style=\"display:none;\">\n",
              "        \n",
              "  <svg xmlns=\"http://www.w3.org/2000/svg\" height=\"24px\"viewBox=\"0 0 24 24\"\n",
              "       width=\"24px\">\n",
              "    <path d=\"M0 0h24v24H0V0z\" fill=\"none\"/>\n",
              "    <path d=\"M18.56 5.44l.94 2.06.94-2.06 2.06-.94-2.06-.94-.94-2.06-.94 2.06-2.06.94zm-11 1L8.5 8.5l.94-2.06 2.06-.94-2.06-.94L8.5 2.5l-.94 2.06-2.06.94zm10 10l.94 2.06.94-2.06 2.06-.94-2.06-.94-.94-2.06-.94 2.06-2.06.94z\"/><path d=\"M17.41 7.96l-1.37-1.37c-.4-.4-.92-.59-1.43-.59-.52 0-1.04.2-1.43.59L10.3 9.45l-7.72 7.72c-.78.78-.78 2.05 0 2.83L4 21.41c.39.39.9.59 1.41.59.51 0 1.02-.2 1.41-.59l7.78-7.78 2.81-2.81c.8-.78.8-2.07 0-2.86zM5.41 20L4 18.59l7.72-7.72 1.47 1.35L5.41 20z\"/>\n",
              "  </svg>\n",
              "      </button>\n",
              "      \n",
              "  <style>\n",
              "    .colab-df-container {\n",
              "      display:flex;\n",
              "      flex-wrap:wrap;\n",
              "      gap: 12px;\n",
              "    }\n",
              "\n",
              "    .colab-df-convert {\n",
              "      background-color: #E8F0FE;\n",
              "      border: none;\n",
              "      border-radius: 50%;\n",
              "      cursor: pointer;\n",
              "      display: none;\n",
              "      fill: #1967D2;\n",
              "      height: 32px;\n",
              "      padding: 0 0 0 0;\n",
              "      width: 32px;\n",
              "    }\n",
              "\n",
              "    .colab-df-convert:hover {\n",
              "      background-color: #E2EBFA;\n",
              "      box-shadow: 0px 1px 2px rgba(60, 64, 67, 0.3), 0px 1px 3px 1px rgba(60, 64, 67, 0.15);\n",
              "      fill: #174EA6;\n",
              "    }\n",
              "\n",
              "    [theme=dark] .colab-df-convert {\n",
              "      background-color: #3B4455;\n",
              "      fill: #D2E3FC;\n",
              "    }\n",
              "\n",
              "    [theme=dark] .colab-df-convert:hover {\n",
              "      background-color: #434B5C;\n",
              "      box-shadow: 0px 1px 3px 1px rgba(0, 0, 0, 0.15);\n",
              "      filter: drop-shadow(0px 1px 2px rgba(0, 0, 0, 0.3));\n",
              "      fill: #FFFFFF;\n",
              "    }\n",
              "  </style>\n",
              "\n",
              "      <script>\n",
              "        const buttonEl =\n",
              "          document.querySelector('#df-374ed442-1b80-47b4-aff9-1b4b3f5c2095 button.colab-df-convert');\n",
              "        buttonEl.style.display =\n",
              "          google.colab.kernel.accessAllowed ? 'block' : 'none';\n",
              "\n",
              "        async function convertToInteractive(key) {\n",
              "          const element = document.querySelector('#df-374ed442-1b80-47b4-aff9-1b4b3f5c2095');\n",
              "          const dataTable =\n",
              "            await google.colab.kernel.invokeFunction('convertToInteractive',\n",
              "                                                     [key], {});\n",
              "          if (!dataTable) return;\n",
              "\n",
              "          const docLinkHtml = 'Like what you see? Visit the ' +\n",
              "            '<a target=\"_blank\" href=https://colab.research.google.com/notebooks/data_table.ipynb>data table notebook</a>'\n",
              "            + ' to learn more about interactive tables.';\n",
              "          element.innerHTML = '';\n",
              "          dataTable['output_type'] = 'display_data';\n",
              "          await google.colab.output.renderOutput(dataTable, element);\n",
              "          const docLink = document.createElement('div');\n",
              "          docLink.innerHTML = docLinkHtml;\n",
              "          element.appendChild(docLink);\n",
              "        }\n",
              "      </script>\n",
              "    </div>\n",
              "  </div>\n",
              "  "
            ],
            "text/plain": [
              "   browser          os locale      time        date  time_per_session  \\\n",
              "0  Firefox   Windows 7  xh-ZA  11:30:00  2016-10-05                94   \n",
              "1   Chrome  Windows 10  pl-PL  14:35:00  2016-05-06               716   \n",
              "2  Firefox      Debian  vi-VN  14:31:00  2016-03-27               679   \n",
              "3  Firefox      Debian  en-US  10:55:00  2016-12-31               222   \n",
              "4  Firefox      Debian  en-CA  03:30:00  2017-01-19               850   \n",
              "\n",
              "     country       city  \n",
              "0        USA   New York  \n",
              "1      Japan      Tokyo  \n",
              "2     France      Paris  \n",
              "3     Canada  Vancouver  \n",
              "4  Australia     Sydney  "
            ]
          },
          "execution_count": 96,
          "metadata": {},
          "output_type": "execute_result"
        }
      ],
      "source": [
        "# split the location column into 2 new columns\n",
        "data_verify[['country', 'city']] = (data_verify['location']\n",
        "                                   .str.split(pat=\"/\", expand=True)\n",
        ")\n",
        "data_verify = data_verify.drop(['location'], axis=1)\n",
        "data_verify.head()"
      ]
    },
    {
      "cell_type": "code",
      "execution_count": null,
      "metadata": {
        "id": "QetRUGphKkv2"
      },
      "outputs": [],
      "source": [
        "# remove duplicate values\n",
        "cleanup_vals = {'locale': {'ru_RU': 'ru-RU'} }\n",
        "data_verify.replace(cleanup_vals, inplace=True)"
      ]
    },
    {
      "cell_type": "code",
      "execution_count": null,
      "metadata": {
        "id": "PPcxY2lsKl-i"
      },
      "outputs": [],
      "source": [
        "# one-hot-encode categorical features\n",
        "data_verify = encoding(data_verify, feature_cols, encoder)\n",
        "\n",
        "# encode time and date features\n",
        "time_encoding(data_verify, 'time')\n",
        "date_encoding(data_verify, 'date')\n",
        "\n",
        "# scale features\n",
        "scaler.fit(data_verify) \n",
        "data_verify = scaler.transform(data_verify)"
      ]
    },
    {
      "cell_type": "markdown",
      "metadata": {
        "id": "o7FxBUO5G0IA"
      },
      "source": [
        "### ANN Model"
      ]
    },
    {
      "cell_type": "code",
      "execution_count": null,
      "metadata": {
        "id": "exaPEtS630rT"
      },
      "outputs": [],
      "source": [
        "import torch\n",
        "import torch.nn as nn \n",
        "from torch.utils.data import Dataset, DataLoader, random_split"
      ]
    },
    {
      "cell_type": "code",
      "execution_count": null,
      "metadata": {
        "id": "ymy_8dpVBDt-"
      },
      "outputs": [],
      "source": [
        "# create class for a dataset\n",
        "class Dataset(Dataset):\n",
        "    def __init__(self, features, target=None):\n",
        "        self.features = features\n",
        "        self.target = target\n",
        "\n",
        "    def __len__(self):\n",
        "        return len(self.features)\n",
        "\n",
        "    def __getitem__(self, i):\n",
        "        x = torch.tensor(self.features[i], dtype=torch.float)\n",
        "        if self.target is None:\n",
        "            return x\n",
        "        else:\n",
        "            y = torch.tensor(self.target[i], dtype=torch.float)\n",
        "            return x, y\n",
        "\n",
        "\n",
        "# create class for a model\n",
        "class Model(nn.Module):\n",
        "    def __init__(self, input=77, output=1):\n",
        "        super(Model, self).__init__()\n",
        "        self.model = nn.Sequential(\n",
        "            nn.Linear(input, 64),\n",
        "            nn.BatchNorm1d(64),\n",
        "            nn.ReLU(),\n",
        "            nn.Linear(64, 64),\n",
        "            nn.BatchNorm1d(64), \n",
        "            nn.ReLU(), \n",
        "            nn.Dropout(p=0.2),\n",
        "            nn.Linear(64, output)\n",
        "        )\n",
        "        \n",
        "    def forward(self, x):\n",
        "        return self.model(x)\n",
        "        "
      ]
    },
    {
      "cell_type": "code",
      "execution_count": null,
      "metadata": {
        "colab": {
          "base_uri": "https://localhost:8080/"
        },
        "id": "Ams8RqaRQBkt",
        "outputId": "80b934bd-cd1b-4669-f137-3580901669d5"
      },
      "outputs": [
        {
          "name": "stdout",
          "output_type": "stream",
          "text": [
            "Model(\n",
            "  (model): Sequential(\n",
            "    (0): Linear(in_features=77, out_features=64, bias=True)\n",
            "    (1): BatchNorm1d(64, eps=1e-05, momentum=0.1, affine=True, track_running_stats=True)\n",
            "    (2): ReLU()\n",
            "    (3): Linear(in_features=64, out_features=64, bias=True)\n",
            "    (4): BatchNorm1d(64, eps=1e-05, momentum=0.1, affine=True, track_running_stats=True)\n",
            "    (5): ReLU()\n",
            "    (6): Dropout(p=0.2, inplace=False)\n",
            "    (7): Linear(in_features=64, out_features=1, bias=True)\n",
            "  )\n",
            ")\n"
          ]
        }
      ],
      "source": [
        "# define train dataset using Dataset class\n",
        "train_dataset = Dataset(X_train, np.array(y_train))\n",
        "\n",
        "# split the train dataset into train (90%) and validation (10%) sets\n",
        "size = len(train_dataset)\n",
        "train_dataset, val_dataset = random_split(train_dataset, \n",
        "                            [int(0.9 * size), (size - int(0.9 * size))])\n",
        "\n",
        "# define test dataset using Dataset class\n",
        "test_dataset = Dataset(X_test, np.array(y_test))\n",
        "\n",
        "# define size of the batch\n",
        "batch_size = 64\n",
        "\n",
        "# create data loaders for train, validation and test sets\n",
        "train_dataloader = DataLoader(train_dataset, \n",
        "                              batch_size=batch_size, \n",
        "                              shuffle=True)\n",
        "\n",
        "val_dataloader = DataLoader(val_dataset, \n",
        "                             batch_size=batch_size, \n",
        "                             shuffle=False)\n",
        "\n",
        "test_dataloader = DataLoader(test_dataset, \n",
        "                             batch_size=batch_size, \n",
        "                             shuffle=False) \n",
        "\n",
        "# set the device to either GPU or CPU\n",
        "use_cuda = torch.cuda.is_available()\n",
        "device = torch.device(\"cuda\" if use_cuda else \"cpu\")\n",
        "\n",
        "# define a model \n",
        "model = Model(input=77, output=1).to(device)\n",
        "print(model)"
      ]
    },
    {
      "cell_type": "markdown",
      "metadata": {
        "id": "77mRCRaf-o_0"
      },
      "source": [
        "### Training & Validation"
      ]
    },
    {
      "cell_type": "code",
      "execution_count": null,
      "metadata": {
        "colab": {
          "base_uri": "https://localhost:8080/"
        },
        "id": "0sl9MbL3Eipb",
        "outputId": "def1e814-882a-474d-bb8c-c9a9dcb08b68"
      },
      "outputs": [
        {
          "name": "stderr",
          "output_type": "stream",
          "text": [
            "100%|██████████| 230/230 [00:00<00:00, 280.56it/s]\n"
          ]
        },
        {
          "name": "stdout",
          "output_type": "stream",
          "text": [
            "Epoch 1/30: loss = 0.19878440964157168\n",
            "val loss = 0.036104450575434245, val precision = 0.8, val recall = 1.0, val f1 score = 0.888888888888889\n"
          ]
        },
        {
          "name": "stderr",
          "output_type": "stream",
          "text": [
            "100%|██████████| 230/230 [00:00<00:00, 326.90it/s]\n"
          ]
        },
        {
          "name": "stdout",
          "output_type": "stream",
          "text": [
            "Epoch 2/30: loss = 0.027945035112940747\n",
            "val loss = 0.010380396923909966, val precision = 1.0, val recall = 1.0, val f1 score = 1.0\n"
          ]
        },
        {
          "name": "stderr",
          "output_type": "stream",
          "text": [
            "100%|██████████| 230/230 [00:00<00:00, 319.84it/s]\n"
          ]
        },
        {
          "name": "stdout",
          "output_type": "stream",
          "text": [
            "Epoch 3/30: loss = 0.013318464765325189\n",
            "val loss = 0.004734574020123825, val precision = 1.0, val recall = 1.0, val f1 score = 1.0\n"
          ]
        },
        {
          "name": "stderr",
          "output_type": "stream",
          "text": [
            "100%|██████████| 230/230 [00:00<00:00, 334.11it/s]\n"
          ]
        },
        {
          "name": "stdout",
          "output_type": "stream",
          "text": [
            "Epoch 4/30: loss = 0.0090975779371903\n",
            "val loss = 0.0032302139398570242, val precision = 1.0, val recall = 1.0, val f1 score = 1.0\n"
          ]
        },
        {
          "name": "stderr",
          "output_type": "stream",
          "text": [
            "100%|██████████| 230/230 [00:00<00:00, 326.97it/s]\n"
          ]
        },
        {
          "name": "stdout",
          "output_type": "stream",
          "text": [
            "Epoch 5/30: loss = 0.006493612920420002\n",
            "val loss = 0.0018853048565618407, val precision = 1.0, val recall = 1.0, val f1 score = 1.0\n"
          ]
        },
        {
          "name": "stderr",
          "output_type": "stream",
          "text": [
            "100%|██████████| 230/230 [00:00<00:00, 316.09it/s]\n"
          ]
        },
        {
          "name": "stdout",
          "output_type": "stream",
          "text": [
            "Epoch 6/30: loss = 0.005585176119094958\n",
            "val loss = 0.00125383054658484, val precision = 1.0, val recall = 1.0, val f1 score = 1.0\n"
          ]
        },
        {
          "name": "stderr",
          "output_type": "stream",
          "text": [
            "100%|██████████| 230/230 [00:00<00:00, 338.52it/s]\n"
          ]
        },
        {
          "name": "stdout",
          "output_type": "stream",
          "text": [
            "Epoch 7/30: loss = 0.00461490273693293\n",
            "val loss = 0.0009156311336062992, val precision = 1.0, val recall = 1.0, val f1 score = 1.0\n"
          ]
        },
        {
          "name": "stderr",
          "output_type": "stream",
          "text": [
            "100%|██████████| 230/230 [00:00<00:00, 331.93it/s]\n"
          ]
        },
        {
          "name": "stdout",
          "output_type": "stream",
          "text": [
            "Epoch 8/30: loss = 0.0046370241798602205\n",
            "val loss = 0.0005820888663248087, val precision = 1.0, val recall = 1.0, val f1 score = 1.0\n"
          ]
        },
        {
          "name": "stderr",
          "output_type": "stream",
          "text": [
            "100%|██████████| 230/230 [00:00<00:00, 312.80it/s]\n"
          ]
        },
        {
          "name": "stdout",
          "output_type": "stream",
          "text": [
            "Epoch 9/30: loss = 0.004042090413175807\n",
            "val loss = 0.0007108746537526783, val precision = 1.0, val recall = 1.0, val f1 score = 1.0\n"
          ]
        },
        {
          "name": "stderr",
          "output_type": "stream",
          "text": [
            "100%|██████████| 230/230 [00:00<00:00, 337.64it/s]\n"
          ]
        },
        {
          "name": "stdout",
          "output_type": "stream",
          "text": [
            "Epoch 10/30: loss = 0.00424561882075226\n",
            "val loss = 0.0008345251794358214, val precision = 1.0, val recall = 1.0, val f1 score = 1.0\n"
          ]
        },
        {
          "name": "stderr",
          "output_type": "stream",
          "text": [
            "100%|██████████| 230/230 [00:00<00:00, 340.19it/s]\n"
          ]
        },
        {
          "name": "stdout",
          "output_type": "stream",
          "text": [
            "Epoch 11/30: loss = 0.002797591268545543\n",
            "val loss = 0.000650402963891303, val precision = 1.0, val recall = 1.0, val f1 score = 1.0\n"
          ]
        },
        {
          "name": "stderr",
          "output_type": "stream",
          "text": [
            "100%|██████████| 230/230 [00:00<00:00, 270.41it/s]\n"
          ]
        },
        {
          "name": "stdout",
          "output_type": "stream",
          "text": [
            "Epoch 12/30: loss = 0.002544616282102652\n",
            "val loss = 0.000570716946990265, val precision = 1.0, val recall = 1.0, val f1 score = 1.0\n"
          ]
        },
        {
          "name": "stderr",
          "output_type": "stream",
          "text": [
            "100%|██████████| 230/230 [00:00<00:00, 239.65it/s]\n"
          ]
        },
        {
          "name": "stdout",
          "output_type": "stream",
          "text": [
            "Epoch 13/30: loss = 0.002391149646744294\n",
            "val loss = 0.0005470563337439671, val precision = 1.0, val recall = 1.0, val f1 score = 1.0\n"
          ]
        },
        {
          "name": "stderr",
          "output_type": "stream",
          "text": [
            "100%|██████████| 230/230 [00:00<00:00, 259.10it/s]\n"
          ]
        },
        {
          "name": "stdout",
          "output_type": "stream",
          "text": [
            "Epoch 14/30: loss = 0.002358104932531917\n",
            "val loss = 0.0005763623037357599, val precision = 1.0, val recall = 1.0, val f1 score = 1.0\n"
          ]
        },
        {
          "name": "stderr",
          "output_type": "stream",
          "text": [
            "100%|██████████| 230/230 [00:00<00:00, 326.16it/s]\n"
          ]
        },
        {
          "name": "stdout",
          "output_type": "stream",
          "text": [
            "Epoch 15/30: loss = 0.0023231275437865405\n",
            "val loss = 0.0005511006954923057, val precision = 1.0, val recall = 1.0, val f1 score = 1.0\n"
          ]
        },
        {
          "name": "stderr",
          "output_type": "stream",
          "text": [
            "100%|██████████| 230/230 [00:00<00:00, 341.96it/s]\n"
          ]
        },
        {
          "name": "stdout",
          "output_type": "stream",
          "text": [
            "Epoch 16/30: loss = 0.0021519986826562037\n",
            "val loss = 0.00045059381395381375, val precision = 1.0, val recall = 1.0, val f1 score = 1.0\n"
          ]
        },
        {
          "name": "stderr",
          "output_type": "stream",
          "text": [
            "100%|██████████| 230/230 [00:00<00:00, 334.62it/s]\n"
          ]
        },
        {
          "name": "stdout",
          "output_type": "stream",
          "text": [
            "Epoch 17/30: loss = 0.002148768290214281\n",
            "val loss = 0.0005328597018468337, val precision = 1.0, val recall = 1.0, val f1 score = 1.0\n"
          ]
        },
        {
          "name": "stderr",
          "output_type": "stream",
          "text": [
            "100%|██████████| 230/230 [00:00<00:00, 321.61it/s]\n"
          ]
        },
        {
          "name": "stdout",
          "output_type": "stream",
          "text": [
            "Epoch 18/30: loss = 0.0023400318271065454\n",
            "val loss = 0.0004837497007639076, val precision = 1.0, val recall = 1.0, val f1 score = 1.0\n"
          ]
        },
        {
          "name": "stderr",
          "output_type": "stream",
          "text": [
            "100%|██████████| 230/230 [00:00<00:00, 321.56it/s]\n"
          ]
        },
        {
          "name": "stdout",
          "output_type": "stream",
          "text": [
            "Epoch 19/30: loss = 0.0020268887721771457\n",
            "val loss = 0.00041908021068173606, val precision = 1.0, val recall = 1.0, val f1 score = 1.0\n"
          ]
        },
        {
          "name": "stderr",
          "output_type": "stream",
          "text": [
            "100%|██████████| 230/230 [00:00<00:00, 334.70it/s]\n"
          ]
        },
        {
          "name": "stdout",
          "output_type": "stream",
          "text": [
            "Epoch 20/30: loss = 0.0019467596866256233\n",
            "val loss = 0.0004632745622075163, val precision = 1.0, val recall = 1.0, val f1 score = 1.0\n"
          ]
        },
        {
          "name": "stderr",
          "output_type": "stream",
          "text": [
            "100%|██████████| 230/230 [00:00<00:00, 332.18it/s]\n"
          ]
        },
        {
          "name": "stdout",
          "output_type": "stream",
          "text": [
            "Epoch 21/30: loss = 0.001979985541180687\n",
            "val loss = 0.0003573586050501595, val precision = 1.0, val recall = 1.0, val f1 score = 1.0\n"
          ]
        },
        {
          "name": "stderr",
          "output_type": "stream",
          "text": [
            "100%|██████████| 230/230 [00:00<00:00, 332.19it/s]\n"
          ]
        },
        {
          "name": "stdout",
          "output_type": "stream",
          "text": [
            "Epoch 22/30: loss = 0.0021668212854622296\n",
            "val loss = 0.0004299582528451887, val precision = 1.0, val recall = 1.0, val f1 score = 1.0\n"
          ]
        },
        {
          "name": "stderr",
          "output_type": "stream",
          "text": [
            "100%|██████████| 230/230 [00:01<00:00, 181.78it/s]\n"
          ]
        },
        {
          "name": "stdout",
          "output_type": "stream",
          "text": [
            "Epoch 23/30: loss = 0.002096966905051174\n",
            "val loss = 0.0003754115325416653, val precision = 1.0, val recall = 1.0, val f1 score = 1.0\n"
          ]
        },
        {
          "name": "stderr",
          "output_type": "stream",
          "text": [
            "100%|██████████| 230/230 [00:00<00:00, 335.06it/s]\n"
          ]
        },
        {
          "name": "stdout",
          "output_type": "stream",
          "text": [
            "Epoch 24/30: loss = 0.0018720682232726729\n",
            "val loss = 0.0003899850621215032, val precision = 1.0, val recall = 1.0, val f1 score = 1.0\n"
          ]
        },
        {
          "name": "stderr",
          "output_type": "stream",
          "text": [
            "100%|██████████| 230/230 [00:00<00:00, 338.59it/s]\n"
          ]
        },
        {
          "name": "stdout",
          "output_type": "stream",
          "text": [
            "Epoch 25/30: loss = 0.0017083505020507248\n",
            "val loss = 0.0004275816460834064, val precision = 1.0, val recall = 1.0, val f1 score = 1.0\n"
          ]
        },
        {
          "name": "stderr",
          "output_type": "stream",
          "text": [
            "100%|██████████| 230/230 [00:00<00:00, 346.44it/s]\n"
          ]
        },
        {
          "name": "stdout",
          "output_type": "stream",
          "text": [
            "Epoch 26/30: loss = 0.0018937455098595186\n",
            "val loss = 0.000423672716771342, val precision = 1.0, val recall = 1.0, val f1 score = 1.0\n"
          ]
        },
        {
          "name": "stderr",
          "output_type": "stream",
          "text": [
            "100%|██████████| 230/230 [00:00<00:00, 255.84it/s]\n"
          ]
        },
        {
          "name": "stdout",
          "output_type": "stream",
          "text": [
            "Epoch 27/30: loss = 0.0017499773653031772\n",
            "val loss = 0.00042328324063698977, val precision = 1.0, val recall = 1.0, val f1 score = 1.0\n"
          ]
        },
        {
          "name": "stderr",
          "output_type": "stream",
          "text": [
            "100%|██████████| 230/230 [00:00<00:00, 233.50it/s]\n"
          ]
        },
        {
          "name": "stdout",
          "output_type": "stream",
          "text": [
            "Epoch 28/30: loss = 0.0017720655929145362\n",
            "val loss = 0.0004809467587060331, val precision = 1.0, val recall = 1.0, val f1 score = 1.0\n"
          ]
        },
        {
          "name": "stderr",
          "output_type": "stream",
          "text": [
            "100%|██████████| 230/230 [00:00<00:00, 285.46it/s]\n"
          ]
        },
        {
          "name": "stdout",
          "output_type": "stream",
          "text": [
            "Epoch 29/30: loss = 0.001566018935219567\n",
            "val loss = 0.0005355581219751352, val precision = 1.0, val recall = 1.0, val f1 score = 1.0\n"
          ]
        },
        {
          "name": "stderr",
          "output_type": "stream",
          "text": [
            "100%|██████████| 230/230 [00:00<00:00, 343.30it/s]\n"
          ]
        },
        {
          "name": "stdout",
          "output_type": "stream",
          "text": [
            "Epoch 30/30: loss = 0.001926912253206272\n",
            "val loss = 0.0003271388573361597, val precision = 1.0, val recall = 1.0, val f1 score = 1.0\n"
          ]
        }
      ],
      "source": [
        "from tqdm import tqdm\n",
        "from sklearn.metrics import recall_score, precision_score, f1_score \n",
        "\n",
        "\n",
        "# define the learning rate and number of epochs to train the model for\n",
        "lr = 0.001\n",
        "epochs = 30\n",
        "\n",
        "# define the loss function\n",
        "loss_fn = nn.BCEWithLogitsLoss()\n",
        "\n",
        "# define the optimizer\n",
        "opt = torch.optim.Adam(model.parameters(), lr=lr)\n",
        "\n",
        "# define the learning rate scheduler\n",
        "lr_scheduler = torch.optim.lr_scheduler.StepLR(opt, step_size=10, gamma=0.1)\n",
        "\n",
        "\n",
        "# define the train function to train the model\n",
        "def train(model, device, train_loader, loss_fn, opt, epoch):\n",
        "    # set the model to the training mode\n",
        "    model.train()\n",
        "    train_loss = 0\n",
        "    bar = tqdm(train_loader)\n",
        "    # iterate through the data loader\n",
        "    for input, target in bar:\n",
        "        input, target = input.to(device), target.to(device)\n",
        "        opt.zero_grad()\n",
        "        pred = model(input)\n",
        "        loss = loss_fn(pred, target.unsqueeze(1))\n",
        "        loss.backward()\n",
        "        opt.step()\n",
        "        train_loss += loss.item()\n",
        "        \n",
        "    # print and return the average loss \n",
        "    avg_loss = train_loss / len(train_loader)\n",
        "    print(f'Epoch {epoch+1}/{epochs}: loss = {avg_loss}')\n",
        "    return avg_loss\n",
        "    \n",
        "\n",
        "# define the evaluate function for validation\n",
        "def evaluate(model, device, val_loader, loss_fn, opt):\n",
        "    model.eval()\n",
        "    preds = []\n",
        "    true_target = []\n",
        "    val_loss = 0\n",
        "    with torch.no_grad():\n",
        "        # iterate over validation data\n",
        "        for input, target in val_loader:\n",
        "            input, target = input.to(device), target.to(device)\n",
        "            pred = model(input)\n",
        "            loss = loss_fn(pred, target.unsqueeze(1))\n",
        "            val_loss += loss.item()\n",
        "            preds.append(((torch.sigmoid(pred.cpu().data)) > 0.5) * 1)\n",
        "            true_target.append(target.cpu().data.numpy().reshape(-1, 1))\n",
        "\n",
        "    # calculate and print validation metrics for imbalanced case\n",
        "    precision = precision_score(np.vstack(preds), np.vstack(true_target))\n",
        "    recall = recall_score(np.vstack(preds), np.vstack(true_target))\n",
        "    f1 = f1_score(np.vstack(preds), np.vstack(true_target))\n",
        "    avg_val_loss = val_loss / len(val_loader)\n",
        "\n",
        "    print(f'val loss = {avg_val_loss}, val precision = {precision}, val recall = {recall}, val f1 score = {f1}')\n",
        "    \n",
        "    # return the average validation loss\n",
        "    return avg_val_loss\n",
        "\n",
        "\n",
        "losses = []\n",
        "val_losses = []\n",
        "for epoch in range(epochs):\n",
        "    # train the model\n",
        "    train_loss = train(model, device, train_dataloader, loss_fn, opt, epoch)\n",
        "    losses.append(train_loss)\n",
        "\n",
        "    # evaluate the model on the validation set\n",
        "    val_loss = evaluate(model, device, val_dataloader, loss_fn, opt)\n",
        "    val_losses.append(val_loss)\n",
        "\n",
        "    # step the learning rate scheduler\n",
        "    lr_scheduler.step()"
      ]
    },
    {
      "cell_type": "code",
      "execution_count": null,
      "metadata": {
        "colab": {
          "base_uri": "https://localhost:8080/",
          "height": 472
        },
        "id": "wad5UfJK3a3h",
        "outputId": "096559fc-1788-4d2a-e89e-3bf8ad1dc0f7"
      },
      "outputs": [
        {
          "data": {
            "image/png": "[encoded data removed]",
            "text/plain": [
              "<Figure size 640x480 with 1 Axes>"
            ]
          },
          "metadata": {},
          "output_type": "display_data"
        }
      ],
      "source": [
        "# plot the train and validation losses \n",
        "plt.plot(losses)\n",
        "plt.plot(val_losses)\n",
        "\n",
        "plt.title('Model loss')\n",
        "plt.ylabel('Loss')\n",
        "plt.xlabel('Epoch')\n",
        "plt.legend(['Train', 'Validation'], loc='best')\n",
        "\n",
        "plt.show()"
      ]
    },
    {
      "cell_type": "markdown",
      "metadata": {
        "id": "DMqxzPmN_lbX"
      },
      "source": [
        "### Evaluate the model on test data"
      ]
    },
    {
      "cell_type": "code",
      "execution_count": null,
      "metadata": {
        "colab": {
          "base_uri": "https://localhost:8080/"
        },
        "id": "X3VR2cBheLgZ",
        "outputId": "39762c78-47f0-4f6e-ac8d-9a88c1d86b4f"
      },
      "outputs": [
        {
          "name": "stdout",
          "output_type": "stream",
          "text": [
            "              precision    recall  f1-score   support\n",
            "\n",
            "         0.0       1.00      1.00      1.00      4001\n",
            "         1.0       0.94      0.97      0.96        80\n",
            "\n",
            "    accuracy                           1.00      4081\n",
            "   macro avg       0.97      0.99      0.98      4081\n",
            "weighted avg       1.00      1.00      1.00      4081\n",
            "\n"
          ]
        }
      ],
      "source": [
        "from sklearn.metrics import classification_report\n",
        "\n",
        "# define the test function \n",
        "def test(model, device, test_loader):\n",
        "    model.eval()\n",
        "    preds = []\n",
        "    true_target = []\n",
        "    test_loss = 0\n",
        "    with torch.no_grad():\n",
        "        # iterate over test data\n",
        "        for input, target in test_loader:\n",
        "            input, target = input.to(device), target.to(device)\n",
        "            pred = model(input)\n",
        "            preds.append(((torch.sigmoid(pred.cpu().data)) > 0.5) * 1)\n",
        "            true_target.append(target.cpu().data.numpy().reshape(-1, 1))\n",
        "    # return predictions and actual targets\n",
        "    return preds, true_target\n",
        "\n",
        "\n",
        "# test the model\n",
        "y_pred, y_true = test(model, device, test_dataloader)\n",
        "\n",
        "# report metrics on test set\n",
        "print(classification_report(np.vstack(y_true), np.vstack(y_pred)))"
      ]
    },
    {
      "cell_type": "markdown",
      "metadata": {
        "id": "OaYRMjVgADJ8"
      },
      "source": [
        "#### Predict each user in `task_1_verify.csv`"
      ]
    },
    {
      "cell_type": "code",
      "execution_count": null,
      "metadata": {
        "colab": {
          "base_uri": "https://localhost:8080/"
        },
        "id": "aBRiptX_psMy",
        "outputId": "24de484d-663a-44b5-c04a-d9804b67190a"
      },
      "outputs": [
        {
          "name": "stdout",
          "output_type": "stream",
          "text": [
            "0 : 0\n",
            "1 : 0\n",
            "2 : 0\n",
            "3 : 0\n",
            "4 : 0\n",
            "5 : 0\n",
            "6 : 0\n",
            "7 : 0\n",
            "8 : 0\n",
            "9 : 0\n",
            "10 : 0\n",
            "11 : 0\n",
            "12 : 0\n",
            "13 : 0\n",
            "14 : 0\n",
            "15 : 0\n",
            "16 : 0\n",
            "17 : 0\n",
            "18 : 0\n",
            "19 : 0\n",
            "20 : 0\n",
            "21 : 0\n",
            "22 : 0\n",
            "23 : 0\n",
            "24 : 0\n",
            "25 : 0\n",
            "26 : 0\n",
            "27 : 0\n",
            "28 : 0\n",
            "29 : 0\n",
            "30 : 0\n",
            "31 : 1\n",
            "32 : 1\n",
            "33 : 1\n",
            "34 : 1\n",
            "35 : 1\n"
          ]
        }
      ],
      "source": [
        "# define a function to get predictions\n",
        "def predict(model, device, dataloader):\n",
        "    model.eval()\n",
        "    preds = []\n",
        "    with torch.no_grad():\n",
        "        for input in dataloader:\n",
        "            input = input.to(device)\n",
        "            pred = model(input)\n",
        "            preds.append(((torch.sigmoid(pred.cpu().data)) > 0.5) * 1)\n",
        "    \n",
        "    return preds\n",
        "\n",
        "\n",
        "# create a dataset for data_verify from 'task_1_verify.csv'\n",
        "verify_dataset = Dataset(data_verify)\n",
        "\n",
        "# create the data loader for the verify dataset\n",
        "verify_loader = DataLoader(verify_dataset, \n",
        "                           batch_size=batch_size, \n",
        "                           shuffle=False)\n",
        "\n",
        "# get the prediction\n",
        "prediction = np.vstack(predict(model, device, verify_loader)).flatten()\n",
        "\n",
        "# print the prediction where 1 - waldo, 0 - user is not waldo\n",
        "for i in range(len(prediction)):\n",
        "    print(i, ':', prediction[i])\n",
        "  "
      ]
    },
    {
      "cell_type": "markdown",
      "metadata": {
        "id": "IgRyxO53_bzO"
      },
      "source": [
        "As was obtained, the last 5 users from `task_1_verify.csv`are Waldo."
      ]
    },
    {
      "cell_type": "markdown",
      "metadata": {
        "id": "vOkdF0JTPCXV"
      },
      "source": [
        "### Comments:\n",
        "1. Some usefull insights from the data analysis:\n",
        "    - Firstly, I have observed an unbalanced distribution of class labels, i.e. there are only 2% of samples in data associated with Waldo user label. As a result, to evaluate the model's performance further, I use such metrics as recall, precision and F1 score.\n",
        "    - Additionaly, I found out that average sites session time of Waldo users is almost 2.5 times higher than the average session time of not Waldo users, namely 1102 seconds against 484 seconds.\n",
        "    - What is more, all Waldo users have `ru-RU` locale identifier.\n",
        "2. Preprocessing techniques used:\n",
        "    - First of all, I checked the dataset for missing values and duplicated values in the columns. I observed that the dataset have no missing values, so there is no need to impute them. The column `locale` has the duplicates `ru-RU` and `ru_RU`, so I handle them.\n",
        "    - I removed redundant features that seemed irrelevant, such as `index` and `sites`.\n",
        "    - To encode categorical features, I used One-Hot encoding, since the features (`city`, `country`, etc.) have no ordinal relationship. Also, I encode cyclical features `time` and `date` using sin and cosine transforms.\n",
        "    - Finally, I applied feature normalization to zero mean and unit variance using Standard Scaler.\n",
        "3. How the model architecture was reached:\n",
        "    - To begin with, I determined the input and output layer dimensionality as 77 and 1, respectively. \n",
        "    - I researched and found a relevant [article](https://towardsdatascience.com/pytorch-tabular-binary-classification-a0368da5bb89) that dealt with the similar problem and performed quite well. I decided to construct my model with the same number of layers, number of neurons and same activation functions. \n",
        "    - I held out 20% of the data as a test set. Furthermore, I splitted the remaining data into train and val splits. The training set was used to optimize the model parameters during training. In contrast, the validation set was employed to tune the model's hyperparameters (number of hidden layers, dimensionality, etc.). As part of the validating process, I also tried different values of probability in the Dropout layer and determined that p=0.2 performed better in this task.\n",
        "    "
      ]
    }
  ],
  "metadata": {
    "colab": {
      "collapsed_sections": [
        "fKU7qlQBPCXR",
        "vOkdF0JTPCXV"
      ],
      "provenance": []
    },
    "gpuClass": "standard",
    "kernelspec": {
      "display_name": "Python 3 (ipykernel)",
      "language": "python",
      "name": "python3"
    },
    "language_info": {
      "codemirror_mode": {
        "name": "ipython",
        "version": 3
      },
      "file_extension": ".py",
      "mimetype": "text/x-python",
      "name": "python",
      "nbconvert_exporter": "python",
      "pygments_lexer": "ipython3",
      "version": "3.10.8"
    },
    "accelerator": "GPU"
  },
  "nbformat": 4,
  "nbformat_minor": 0
}